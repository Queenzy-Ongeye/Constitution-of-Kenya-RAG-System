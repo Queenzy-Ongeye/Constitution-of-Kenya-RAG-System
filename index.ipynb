{
  "cells": [
    {
      "cell_type": "markdown",
      "metadata": {
        "id": "qBuCq-T46WtD"
      },
      "source": [
        "# Kenyan Constitution RAG System"
      ]
    },
    {
      "cell_type": "code",
      "execution_count": 1,
      "metadata": {
        "colab": {
          "base_uri": "https://localhost:8080/"
        },
        "id": "hnLFFvEXfqTr",
        "outputId": "db7f110b-4939-4ba8-83b5-45c5fd6e8461"
      },
      "outputs": [
        {
          "name": "stdout",
          "output_type": "stream",
          "text": [
            "Requirement already satisfied: sentence-transformers in /workspace/.pyenv_mirror/user/current/lib/python3.12/site-packages (4.1.0)\n",
            "Requirement already satisfied: chromadb in /workspace/.pyenv_mirror/user/current/lib/python3.12/site-packages (1.0.6)\n",
            "Requirement already satisfied: fastapi in /workspace/.pyenv_mirror/user/current/lib/python3.12/site-packages (0.115.9)\n",
            "Requirement already satisfied: uvicorn in /workspace/.pyenv_mirror/user/current/lib/python3.12/site-packages (0.34.2)\n",
            "Requirement already satisfied: pdfplumber in /workspace/.pyenv_mirror/user/current/lib/python3.12/site-packages (0.11.6)\n",
            "Collecting python-multipart\n",
            "  Downloading python_multipart-0.0.20-py3-none-any.whl.metadata (1.8 kB)\n",
            "Collecting faiss-cpu\n",
            "  Downloading faiss_cpu-1.10.0-cp312-cp312-manylinux_2_28_x86_64.whl.metadata (4.4 kB)\n",
            "Collecting spacy\n",
            "  Downloading spacy-3.8.5-cp312-cp312-manylinux_2_17_x86_64.manylinux2014_x86_64.whl.metadata (27 kB)\n",
            "Collecting groq\n",
            "  Downloading groq-0.23.0-py3-none-any.whl.metadata (15 kB)\n",
            "Requirement already satisfied: transformers<5.0.0,>=4.41.0 in /workspace/.pyenv_mirror/user/current/lib/python3.12/site-packages (from sentence-transformers) (4.51.3)\n",
            "Requirement already satisfied: tqdm in /workspace/.pyenv_mirror/user/current/lib/python3.12/site-packages (from sentence-transformers) (4.67.1)\n",
            "Requirement already satisfied: torch>=1.11.0 in /workspace/.pyenv_mirror/user/current/lib/python3.12/site-packages (from sentence-transformers) (2.6.0)\n",
            "Requirement already satisfied: scikit-learn in /workspace/.pyenv_mirror/user/current/lib/python3.12/site-packages (from sentence-transformers) (1.6.1)\n",
            "Requirement already satisfied: scipy in /workspace/.pyenv_mirror/user/current/lib/python3.12/site-packages (from sentence-transformers) (1.15.2)\n",
            "Requirement already satisfied: huggingface-hub>=0.20.0 in /workspace/.pyenv_mirror/user/current/lib/python3.12/site-packages (from sentence-transformers) (0.30.2)\n",
            "Requirement already satisfied: Pillow in /workspace/.pyenv_mirror/user/current/lib/python3.12/site-packages (from sentence-transformers) (11.2.1)\n",
            "Requirement already satisfied: typing_extensions>=4.5.0 in /home/gitpod/.pyenv/versions/3.12.9/lib/python3.12/site-packages (from sentence-transformers) (4.12.2)\n",
            "Requirement already satisfied: build>=1.0.3 in /workspace/.pyenv_mirror/user/current/lib/python3.12/site-packages (from chromadb) (1.2.2.post1)\n",
            "Requirement already satisfied: pydantic>=1.9 in /workspace/.pyenv_mirror/user/current/lib/python3.12/site-packages (from chromadb) (2.11.3)\n",
            "Requirement already satisfied: chroma-hnswlib==0.7.6 in /workspace/.pyenv_mirror/user/current/lib/python3.12/site-packages (from chromadb) (0.7.6)\n",
            "Requirement already satisfied: numpy>=1.22.5 in /workspace/.pyenv_mirror/user/current/lib/python3.12/site-packages (from chromadb) (2.2.5)\n",
            "Requirement already satisfied: posthog>=2.4.0 in /workspace/.pyenv_mirror/user/current/lib/python3.12/site-packages (from chromadb) (3.25.0)\n",
            "Requirement already satisfied: onnxruntime>=1.14.1 in /workspace/.pyenv_mirror/user/current/lib/python3.12/site-packages (from chromadb) (1.21.1)\n",
            "Requirement already satisfied: opentelemetry-api>=1.2.0 in /workspace/.pyenv_mirror/user/current/lib/python3.12/site-packages (from chromadb) (1.32.1)\n",
            "Requirement already satisfied: opentelemetry-exporter-otlp-proto-grpc>=1.2.0 in /workspace/.pyenv_mirror/user/current/lib/python3.12/site-packages (from chromadb) (1.32.1)\n",
            "Requirement already satisfied: opentelemetry-instrumentation-fastapi>=0.41b0 in /workspace/.pyenv_mirror/user/current/lib/python3.12/site-packages (from chromadb) (0.53b1)\n",
            "Requirement already satisfied: opentelemetry-sdk>=1.2.0 in /workspace/.pyenv_mirror/user/current/lib/python3.12/site-packages (from chromadb) (1.32.1)\n",
            "Requirement already satisfied: tokenizers>=0.13.2 in /workspace/.pyenv_mirror/user/current/lib/python3.12/site-packages (from chromadb) (0.21.1)\n",
            "Requirement already satisfied: pypika>=0.48.9 in /workspace/.pyenv_mirror/user/current/lib/python3.12/site-packages (from chromadb) (0.48.9)\n",
            "Requirement already satisfied: overrides>=7.3.1 in /home/gitpod/.pyenv/versions/3.12.9/lib/python3.12/site-packages (from chromadb) (7.7.0)\n",
            "Requirement already satisfied: importlib-resources in /workspace/.pyenv_mirror/user/current/lib/python3.12/site-packages (from chromadb) (6.5.2)\n",
            "Requirement already satisfied: grpcio>=1.58.0 in /workspace/.pyenv_mirror/user/current/lib/python3.12/site-packages (from chromadb) (1.71.0)\n",
            "Requirement already satisfied: bcrypt>=4.0.1 in /workspace/.pyenv_mirror/user/current/lib/python3.12/site-packages (from chromadb) (4.3.0)\n",
            "Requirement already satisfied: typer>=0.9.0 in /workspace/.pyenv_mirror/user/current/lib/python3.12/site-packages (from chromadb) (0.15.2)\n",
            "Requirement already satisfied: kubernetes>=28.1.0 in /workspace/.pyenv_mirror/user/current/lib/python3.12/site-packages (from chromadb) (32.0.1)\n",
            "Requirement already satisfied: tenacity>=8.2.3 in /workspace/.pyenv_mirror/user/current/lib/python3.12/site-packages (from chromadb) (9.1.2)\n",
            "Requirement already satisfied: pyyaml>=6.0.0 in /home/gitpod/.pyenv/versions/3.12.9/lib/python3.12/site-packages (from chromadb) (6.0.2)\n",
            "Requirement already satisfied: mmh3>=4.0.1 in /workspace/.pyenv_mirror/user/current/lib/python3.12/site-packages (from chromadb) (5.1.0)\n",
            "Requirement already satisfied: orjson>=3.9.12 in /workspace/.pyenv_mirror/user/current/lib/python3.12/site-packages (from chromadb) (3.10.16)\n",
            "Requirement already satisfied: httpx>=0.27.0 in /home/gitpod/.pyenv/versions/3.12.9/lib/python3.12/site-packages (from chromadb) (0.28.1)\n",
            "Requirement already satisfied: rich>=10.11.0 in /home/gitpod/.pyenv/versions/3.12.9/lib/python3.12/site-packages (from chromadb) (13.9.4)\n",
            "Requirement already satisfied: jsonschema>=4.19.0 in /home/gitpod/.pyenv/versions/3.12.9/lib/python3.12/site-packages (from chromadb) (4.23.0)\n",
            "Requirement already satisfied: starlette<0.46.0,>=0.40.0 in /workspace/.pyenv_mirror/user/current/lib/python3.12/site-packages (from fastapi) (0.45.3)\n",
            "Requirement already satisfied: click>=7.0 in /workspace/.pyenv_mirror/user/current/lib/python3.12/site-packages (from uvicorn) (8.1.8)\n",
            "Requirement already satisfied: h11>=0.8 in /home/gitpod/.pyenv/versions/3.12.9/lib/python3.12/site-packages (from uvicorn) (0.14.0)\n",
            "Requirement already satisfied: pdfminer.six==20250327 in /workspace/.pyenv_mirror/user/current/lib/python3.12/site-packages (from pdfplumber) (20250327)\n",
            "Requirement already satisfied: pypdfium2>=4.18.0 in /workspace/.pyenv_mirror/user/current/lib/python3.12/site-packages (from pdfplumber) (4.30.1)\n",
            "Requirement already satisfied: charset-normalizer>=2.0.0 in /home/gitpod/.pyenv/versions/3.12.9/lib/python3.12/site-packages (from pdfminer.six==20250327->pdfplumber) (3.4.1)\n",
            "Requirement already satisfied: cryptography>=36.0.0 in /home/gitpod/.pyenv/versions/3.12.9/lib/python3.12/site-packages (from pdfminer.six==20250327->pdfplumber) (44.0.0)\n",
            "Requirement already satisfied: packaging in /home/gitpod/.pyenv/versions/3.12.9/lib/python3.12/site-packages (from faiss-cpu) (24.2)\n",
            "Collecting spacy-legacy<3.1.0,>=3.0.11 (from spacy)\n",
            "  Downloading spacy_legacy-3.0.12-py2.py3-none-any.whl.metadata (2.8 kB)\n",
            "Collecting spacy-loggers<2.0.0,>=1.0.0 (from spacy)\n",
            "  Downloading spacy_loggers-1.0.5-py3-none-any.whl.metadata (23 kB)\n",
            "Collecting murmurhash<1.1.0,>=0.28.0 (from spacy)\n",
            "  Downloading murmurhash-1.0.12-cp312-cp312-manylinux_2_5_x86_64.manylinux1_x86_64.manylinux_2_17_x86_64.manylinux2014_x86_64.whl.metadata (2.1 kB)\n",
            "Collecting cymem<2.1.0,>=2.0.2 (from spacy)\n",
            "  Downloading cymem-2.0.11-cp312-cp312-manylinux_2_17_x86_64.manylinux2014_x86_64.whl.metadata (8.5 kB)\n",
            "Collecting preshed<3.1.0,>=3.0.2 (from spacy)\n",
            "  Downloading preshed-3.0.9-cp312-cp312-manylinux_2_5_x86_64.manylinux1_x86_64.manylinux_2_17_x86_64.manylinux2014_x86_64.whl.metadata (2.2 kB)\n",
            "Collecting thinc<8.4.0,>=8.3.4 (from spacy)\n",
            "  Downloading thinc-8.3.6-cp312-cp312-manylinux_2_17_x86_64.manylinux2014_x86_64.whl.metadata (15 kB)\n",
            "Collecting wasabi<1.2.0,>=0.9.1 (from spacy)\n",
            "  Downloading wasabi-1.1.3-py3-none-any.whl.metadata (28 kB)\n",
            "Collecting srsly<3.0.0,>=2.4.3 (from spacy)\n",
            "  Downloading srsly-2.5.1-cp312-cp312-manylinux_2_17_x86_64.manylinux2014_x86_64.whl.metadata (19 kB)\n",
            "Collecting catalogue<2.1.0,>=2.0.6 (from spacy)\n",
            "  Downloading catalogue-2.0.10-py3-none-any.whl.metadata (14 kB)\n",
            "Collecting weasel<0.5.0,>=0.1.0 (from spacy)\n",
            "  Downloading weasel-0.4.1-py3-none-any.whl.metadata (4.6 kB)\n",
            "Requirement already satisfied: requests<3.0.0,>=2.13.0 in /home/gitpod/.pyenv/versions/3.12.9/lib/python3.12/site-packages (from spacy) (2.32.3)\n",
            "Requirement already satisfied: jinja2 in /home/gitpod/.pyenv/versions/3.12.9/lib/python3.12/site-packages (from spacy) (3.1.5)\n",
            "Requirement already satisfied: setuptools in /home/gitpod/.pyenv/versions/3.12.9/lib/python3.12/site-packages (from spacy) (75.8.0)\n",
            "Collecting langcodes<4.0.0,>=3.2.0 (from spacy)\n",
            "  Downloading langcodes-3.5.0-py3-none-any.whl.metadata (29 kB)\n",
            "Requirement already satisfied: anyio<5,>=3.5.0 in /home/gitpod/.pyenv/versions/3.12.9/lib/python3.12/site-packages (from groq) (4.8.0)\n",
            "Requirement already satisfied: distro<2,>=1.7.0 in /workspace/.pyenv_mirror/user/current/lib/python3.12/site-packages (from groq) (1.9.0)\n",
            "Requirement already satisfied: sniffio in /home/gitpod/.pyenv/versions/3.12.9/lib/python3.12/site-packages (from groq) (1.3.1)\n",
            "Requirement already satisfied: idna>=2.8 in /home/gitpod/.pyenv/versions/3.12.9/lib/python3.12/site-packages (from anyio<5,>=3.5.0->groq) (3.10)\n",
            "Requirement already satisfied: pyproject_hooks in /workspace/.pyenv_mirror/user/current/lib/python3.12/site-packages (from build>=1.0.3->chromadb) (1.2.0)\n",
            "Requirement already satisfied: certifi in /home/gitpod/.pyenv/versions/3.12.9/lib/python3.12/site-packages (from httpx>=0.27.0->chromadb) (2025.1.31)\n",
            "Requirement already satisfied: httpcore==1.* in /home/gitpod/.pyenv/versions/3.12.9/lib/python3.12/site-packages (from httpx>=0.27.0->chromadb) (1.0.7)\n",
            "Requirement already satisfied: filelock in /home/gitpod/.pyenv/versions/3.12.9/lib/python3.12/site-packages (from huggingface-hub>=0.20.0->sentence-transformers) (3.17.0)\n",
            "Requirement already satisfied: fsspec>=2023.5.0 in /workspace/.pyenv_mirror/user/current/lib/python3.12/site-packages (from huggingface-hub>=0.20.0->sentence-transformers) (2025.3.2)\n",
            "Requirement already satisfied: attrs>=22.2.0 in /home/gitpod/.pyenv/versions/3.12.9/lib/python3.12/site-packages (from jsonschema>=4.19.0->chromadb) (25.1.0)\n",
            "Requirement already satisfied: jsonschema-specifications>=2023.03.6 in /home/gitpod/.pyenv/versions/3.12.9/lib/python3.12/site-packages (from jsonschema>=4.19.0->chromadb) (2024.10.1)\n",
            "Requirement already satisfied: referencing>=0.28.4 in /home/gitpod/.pyenv/versions/3.12.9/lib/python3.12/site-packages (from jsonschema>=4.19.0->chromadb) (0.36.2)\n",
            "Requirement already satisfied: rpds-py>=0.7.1 in /home/gitpod/.pyenv/versions/3.12.9/lib/python3.12/site-packages (from jsonschema>=4.19.0->chromadb) (0.22.3)\n",
            "Requirement already satisfied: six>=1.9.0 in /home/gitpod/.pyenv/versions/3.12.9/lib/python3.12/site-packages (from kubernetes>=28.1.0->chromadb) (1.17.0)\n",
            "Requirement already satisfied: python-dateutil>=2.5.3 in /home/gitpod/.pyenv/versions/3.12.9/lib/python3.12/site-packages (from kubernetes>=28.1.0->chromadb) (2.9.0.post0)\n",
            "Requirement already satisfied: google-auth>=1.0.1 in /workspace/.pyenv_mirror/user/current/lib/python3.12/site-packages (from kubernetes>=28.1.0->chromadb) (2.39.0)\n",
            "Requirement already satisfied: websocket-client!=0.40.0,!=0.41.*,!=0.42.*,>=0.32.0 in /home/gitpod/.pyenv/versions/3.12.9/lib/python3.12/site-packages (from kubernetes>=28.1.0->chromadb) (1.8.0)\n",
            "Requirement already satisfied: requests-oauthlib in /workspace/.pyenv_mirror/user/current/lib/python3.12/site-packages (from kubernetes>=28.1.0->chromadb) (2.0.0)\n",
            "Requirement already satisfied: oauthlib>=3.2.2 in /workspace/.pyenv_mirror/user/current/lib/python3.12/site-packages (from kubernetes>=28.1.0->chromadb) (3.2.2)\n",
            "Requirement already satisfied: urllib3>=1.24.2 in /home/gitpod/.pyenv/versions/3.12.9/lib/python3.12/site-packages (from kubernetes>=28.1.0->chromadb) (2.3.0)\n",
            "Requirement already satisfied: durationpy>=0.7 in /workspace/.pyenv_mirror/user/current/lib/python3.12/site-packages (from kubernetes>=28.1.0->chromadb) (0.9)\n",
            "Collecting language-data>=1.2 (from langcodes<4.0.0,>=3.2.0->spacy)\n",
            "  Downloading language_data-1.3.0-py3-none-any.whl.metadata (4.3 kB)\n",
            "Requirement already satisfied: coloredlogs in /workspace/.pyenv_mirror/user/current/lib/python3.12/site-packages (from onnxruntime>=1.14.1->chromadb) (15.0.1)\n",
            "Requirement already satisfied: flatbuffers in /workspace/.pyenv_mirror/user/current/lib/python3.12/site-packages (from onnxruntime>=1.14.1->chromadb) (25.2.10)\n",
            "Requirement already satisfied: protobuf in /workspace/.pyenv_mirror/user/current/lib/python3.12/site-packages (from onnxruntime>=1.14.1->chromadb) (5.29.4)\n",
            "Requirement already satisfied: sympy in /workspace/.pyenv_mirror/user/current/lib/python3.12/site-packages (from onnxruntime>=1.14.1->chromadb) (1.13.1)\n",
            "Requirement already satisfied: deprecated>=1.2.6 in /workspace/.pyenv_mirror/user/current/lib/python3.12/site-packages (from opentelemetry-api>=1.2.0->chromadb) (1.2.18)\n",
            "Requirement already satisfied: importlib-metadata<8.7.0,>=6.0 in /workspace/.pyenv_mirror/user/current/lib/python3.12/site-packages (from opentelemetry-api>=1.2.0->chromadb) (8.6.1)\n",
            "Requirement already satisfied: googleapis-common-protos~=1.52 in /workspace/.pyenv_mirror/user/current/lib/python3.12/site-packages (from opentelemetry-exporter-otlp-proto-grpc>=1.2.0->chromadb) (1.70.0)\n",
            "Requirement already satisfied: opentelemetry-exporter-otlp-proto-common==1.32.1 in /workspace/.pyenv_mirror/user/current/lib/python3.12/site-packages (from opentelemetry-exporter-otlp-proto-grpc>=1.2.0->chromadb) (1.32.1)\n",
            "Requirement already satisfied: opentelemetry-proto==1.32.1 in /workspace/.pyenv_mirror/user/current/lib/python3.12/site-packages (from opentelemetry-exporter-otlp-proto-grpc>=1.2.0->chromadb) (1.32.1)\n",
            "Requirement already satisfied: opentelemetry-instrumentation-asgi==0.53b1 in /workspace/.pyenv_mirror/user/current/lib/python3.12/site-packages (from opentelemetry-instrumentation-fastapi>=0.41b0->chromadb) (0.53b1)\n",
            "Requirement already satisfied: opentelemetry-instrumentation==0.53b1 in /workspace/.pyenv_mirror/user/current/lib/python3.12/site-packages (from opentelemetry-instrumentation-fastapi>=0.41b0->chromadb) (0.53b1)\n",
            "Requirement already satisfied: opentelemetry-semantic-conventions==0.53b1 in /workspace/.pyenv_mirror/user/current/lib/python3.12/site-packages (from opentelemetry-instrumentation-fastapi>=0.41b0->chromadb) (0.53b1)\n",
            "Requirement already satisfied: opentelemetry-util-http==0.53b1 in /workspace/.pyenv_mirror/user/current/lib/python3.12/site-packages (from opentelemetry-instrumentation-fastapi>=0.41b0->chromadb) (0.53b1)\n",
            "Requirement already satisfied: wrapt<2.0.0,>=1.0.0 in /workspace/.pyenv_mirror/user/current/lib/python3.12/site-packages (from opentelemetry-instrumentation==0.53b1->opentelemetry-instrumentation-fastapi>=0.41b0->chromadb) (1.17.2)\n",
            "Requirement already satisfied: asgiref~=3.0 in /workspace/.pyenv_mirror/user/current/lib/python3.12/site-packages (from opentelemetry-instrumentation-asgi==0.53b1->opentelemetry-instrumentation-fastapi>=0.41b0->chromadb) (3.8.1)\n",
            "Requirement already satisfied: monotonic>=1.5 in /workspace/.pyenv_mirror/user/current/lib/python3.12/site-packages (from posthog>=2.4.0->chromadb) (1.6)\n",
            "Requirement already satisfied: backoff>=1.10.0 in /workspace/.pyenv_mirror/user/current/lib/python3.12/site-packages (from posthog>=2.4.0->chromadb) (2.2.1)\n",
            "Requirement already satisfied: annotated-types>=0.6.0 in /workspace/.pyenv_mirror/user/current/lib/python3.12/site-packages (from pydantic>=1.9->chromadb) (0.7.0)\n",
            "Requirement already satisfied: pydantic-core==2.33.1 in /workspace/.pyenv_mirror/user/current/lib/python3.12/site-packages (from pydantic>=1.9->chromadb) (2.33.1)\n",
            "Requirement already satisfied: typing-inspection>=0.4.0 in /workspace/.pyenv_mirror/user/current/lib/python3.12/site-packages (from pydantic>=1.9->chromadb) (0.4.0)\n",
            "Requirement already satisfied: markdown-it-py>=2.2.0 in /home/gitpod/.pyenv/versions/3.12.9/lib/python3.12/site-packages (from rich>=10.11.0->chromadb) (3.0.0)\n",
            "Requirement already satisfied: pygments<3.0.0,>=2.13.0 in /home/gitpod/.pyenv/versions/3.12.9/lib/python3.12/site-packages (from rich>=10.11.0->chromadb) (2.19.1)\n",
            "Collecting blis<1.4.0,>=1.3.0 (from thinc<8.4.0,>=8.3.4->spacy)\n",
            "  Downloading blis-1.3.0-cp312-cp312-manylinux_2_17_x86_64.manylinux2014_x86_64.whl.metadata (7.4 kB)\n",
            "Collecting confection<1.0.0,>=0.0.1 (from thinc<8.4.0,>=8.3.4->spacy)\n",
            "  Downloading confection-0.1.5-py3-none-any.whl.metadata (19 kB)\n",
            "Requirement already satisfied: networkx in /workspace/.pyenv_mirror/user/current/lib/python3.12/site-packages (from torch>=1.11.0->sentence-transformers) (3.4.2)\n",
            "Requirement already satisfied: nvidia-cuda-nvrtc-cu12==12.4.127 in /workspace/.pyenv_mirror/user/current/lib/python3.12/site-packages (from torch>=1.11.0->sentence-transformers) (12.4.127)\n",
            "Requirement already satisfied: nvidia-cuda-runtime-cu12==12.4.127 in /workspace/.pyenv_mirror/user/current/lib/python3.12/site-packages (from torch>=1.11.0->sentence-transformers) (12.4.127)\n",
            "Requirement already satisfied: nvidia-cuda-cupti-cu12==12.4.127 in /workspace/.pyenv_mirror/user/current/lib/python3.12/site-packages (from torch>=1.11.0->sentence-transformers) (12.4.127)\n",
            "Requirement already satisfied: nvidia-cudnn-cu12==9.1.0.70 in /workspace/.pyenv_mirror/user/current/lib/python3.12/site-packages (from torch>=1.11.0->sentence-transformers) (9.1.0.70)\n",
            "Requirement already satisfied: nvidia-cublas-cu12==12.4.5.8 in /workspace/.pyenv_mirror/user/current/lib/python3.12/site-packages (from torch>=1.11.0->sentence-transformers) (12.4.5.8)\n",
            "Requirement already satisfied: nvidia-cufft-cu12==11.2.1.3 in /workspace/.pyenv_mirror/user/current/lib/python3.12/site-packages (from torch>=1.11.0->sentence-transformers) (11.2.1.3)\n",
            "Requirement already satisfied: nvidia-curand-cu12==10.3.5.147 in /workspace/.pyenv_mirror/user/current/lib/python3.12/site-packages (from torch>=1.11.0->sentence-transformers) (10.3.5.147)\n",
            "Requirement already satisfied: nvidia-cusolver-cu12==11.6.1.9 in /workspace/.pyenv_mirror/user/current/lib/python3.12/site-packages (from torch>=1.11.0->sentence-transformers) (11.6.1.9)\n",
            "Requirement already satisfied: nvidia-cusparse-cu12==12.3.1.170 in /workspace/.pyenv_mirror/user/current/lib/python3.12/site-packages (from torch>=1.11.0->sentence-transformers) (12.3.1.170)\n",
            "Requirement already satisfied: nvidia-cusparselt-cu12==0.6.2 in /workspace/.pyenv_mirror/user/current/lib/python3.12/site-packages (from torch>=1.11.0->sentence-transformers) (0.6.2)\n",
            "Requirement already satisfied: nvidia-nccl-cu12==2.21.5 in /workspace/.pyenv_mirror/user/current/lib/python3.12/site-packages (from torch>=1.11.0->sentence-transformers) (2.21.5)\n",
            "Requirement already satisfied: nvidia-nvtx-cu12==12.4.127 in /workspace/.pyenv_mirror/user/current/lib/python3.12/site-packages (from torch>=1.11.0->sentence-transformers) (12.4.127)\n",
            "Requirement already satisfied: nvidia-nvjitlink-cu12==12.4.127 in /workspace/.pyenv_mirror/user/current/lib/python3.12/site-packages (from torch>=1.11.0->sentence-transformers) (12.4.127)\n",
            "Requirement already satisfied: triton==3.2.0 in /workspace/.pyenv_mirror/user/current/lib/python3.12/site-packages (from torch>=1.11.0->sentence-transformers) (3.2.0)\n",
            "Requirement already satisfied: mpmath<1.4,>=1.1.0 in /workspace/.pyenv_mirror/user/current/lib/python3.12/site-packages (from sympy->onnxruntime>=1.14.1->chromadb) (1.3.0)\n",
            "Requirement already satisfied: regex!=2019.12.17 in /workspace/.pyenv_mirror/user/current/lib/python3.12/site-packages (from transformers<5.0.0,>=4.41.0->sentence-transformers) (2024.11.6)\n",
            "Requirement already satisfied: safetensors>=0.4.3 in /workspace/.pyenv_mirror/user/current/lib/python3.12/site-packages (from transformers<5.0.0,>=4.41.0->sentence-transformers) (0.5.3)\n",
            "Requirement already satisfied: shellingham>=1.3.0 in /workspace/.pyenv_mirror/user/current/lib/python3.12/site-packages (from typer>=0.9.0->chromadb) (1.5.4)\n",
            "Requirement already satisfied: httptools>=0.6.3 in /workspace/.pyenv_mirror/user/current/lib/python3.12/site-packages (from uvicorn[standard]>=0.18.3->chromadb) (0.6.4)\n",
            "Requirement already satisfied: python-dotenv>=0.13 in /workspace/.pyenv_mirror/user/current/lib/python3.12/site-packages (from uvicorn[standard]>=0.18.3->chromadb) (1.1.0)\n",
            "Requirement already satisfied: uvloop!=0.15.0,!=0.15.1,>=0.14.0 in /workspace/.pyenv_mirror/user/current/lib/python3.12/site-packages (from uvicorn[standard]>=0.18.3->chromadb) (0.21.0)\n",
            "Requirement already satisfied: watchfiles>=0.13 in /workspace/.pyenv_mirror/user/current/lib/python3.12/site-packages (from uvicorn[standard]>=0.18.3->chromadb) (1.0.5)\n",
            "Requirement already satisfied: websockets>=10.4 in /workspace/.pyenv_mirror/user/current/lib/python3.12/site-packages (from uvicorn[standard]>=0.18.3->chromadb) (15.0.1)\n",
            "Collecting cloudpathlib<1.0.0,>=0.7.0 (from weasel<0.5.0,>=0.1.0->spacy)\n",
            "  Downloading cloudpathlib-0.21.0-py3-none-any.whl.metadata (14 kB)\n",
            "Collecting smart-open<8.0.0,>=5.2.1 (from weasel<0.5.0,>=0.1.0->spacy)\n",
            "  Downloading smart_open-7.1.0-py3-none-any.whl.metadata (24 kB)\n",
            "Requirement already satisfied: MarkupSafe>=2.0 in /home/gitpod/.pyenv/versions/3.12.9/lib/python3.12/site-packages (from jinja2->spacy) (3.0.2)\n",
            "Requirement already satisfied: joblib>=1.2.0 in /workspace/.pyenv_mirror/user/current/lib/python3.12/site-packages (from scikit-learn->sentence-transformers) (1.4.2)\n",
            "Requirement already satisfied: threadpoolctl>=3.1.0 in /workspace/.pyenv_mirror/user/current/lib/python3.12/site-packages (from scikit-learn->sentence-transformers) (3.6.0)\n",
            "Requirement already satisfied: cffi>=1.12 in /home/gitpod/.pyenv/versions/3.12.9/lib/python3.12/site-packages (from cryptography>=36.0.0->pdfminer.six==20250327->pdfplumber) (1.17.1)\n",
            "Requirement already satisfied: cachetools<6.0,>=2.0.0 in /workspace/.pyenv_mirror/user/current/lib/python3.12/site-packages (from google-auth>=1.0.1->kubernetes>=28.1.0->chromadb) (5.5.2)\n",
            "Requirement already satisfied: pyasn1-modules>=0.2.1 in /workspace/.pyenv_mirror/user/current/lib/python3.12/site-packages (from google-auth>=1.0.1->kubernetes>=28.1.0->chromadb) (0.4.2)\n",
            "Requirement already satisfied: rsa<5,>=3.1.4 in /workspace/.pyenv_mirror/user/current/lib/python3.12/site-packages (from google-auth>=1.0.1->kubernetes>=28.1.0->chromadb) (4.9.1)\n",
            "Requirement already satisfied: zipp>=3.20 in /workspace/.pyenv_mirror/user/current/lib/python3.12/site-packages (from importlib-metadata<8.7.0,>=6.0->opentelemetry-api>=1.2.0->chromadb) (3.21.0)\n",
            "Collecting marisa-trie>=1.1.0 (from language-data>=1.2->langcodes<4.0.0,>=3.2.0->spacy)\n",
            "  Downloading marisa_trie-1.2.1-cp312-cp312-manylinux_2_17_x86_64.manylinux2014_x86_64.whl.metadata (9.0 kB)\n",
            "Requirement already satisfied: mdurl~=0.1 in /home/gitpod/.pyenv/versions/3.12.9/lib/python3.12/site-packages (from markdown-it-py>=2.2.0->rich>=10.11.0->chromadb) (0.1.2)\n",
            "Requirement already satisfied: humanfriendly>=9.1 in /workspace/.pyenv_mirror/user/current/lib/python3.12/site-packages (from coloredlogs->onnxruntime>=1.14.1->chromadb) (10.0)\n",
            "Requirement already satisfied: pycparser in /home/gitpod/.pyenv/versions/3.12.9/lib/python3.12/site-packages (from cffi>=1.12->cryptography>=36.0.0->pdfminer.six==20250327->pdfplumber) (2.22)\n",
            "Requirement already satisfied: pyasn1<0.7.0,>=0.6.1 in /workspace/.pyenv_mirror/user/current/lib/python3.12/site-packages (from pyasn1-modules>=0.2.1->google-auth>=1.0.1->kubernetes>=28.1.0->chromadb) (0.6.1)\n",
            "Downloading python_multipart-0.0.20-py3-none-any.whl (24 kB)\n",
            "Downloading faiss_cpu-1.10.0-cp312-cp312-manylinux_2_28_x86_64.whl (30.7 MB)\n",
            "\u001b[2K   \u001b[90m━━━━━━━━━━━━━━━━━━━━━━━━━━━━━━━━━━━━━━━━\u001b[0m \u001b[32m30.7/30.7 MB\u001b[0m \u001b[31m145.9 MB/s\u001b[0m eta \u001b[36m0:00:00\u001b[0m00:01\u001b[0m\n",
            "\u001b[?25hDownloading spacy-3.8.5-cp312-cp312-manylinux_2_17_x86_64.manylinux2014_x86_64.whl (31.8 MB)\n",
            "\u001b[2K   \u001b[90m━━━━━━━━━━━━━━━━━━━━━━━━━━━━━━━━━━━━━━━━\u001b[0m \u001b[32m31.8/31.8 MB\u001b[0m \u001b[31m162.1 MB/s\u001b[0m eta \u001b[36m0:00:00\u001b[0m\n",
            "\u001b[?25hDownloading groq-0.23.0-py3-none-any.whl (127 kB)\n",
            "Downloading catalogue-2.0.10-py3-none-any.whl (17 kB)\n",
            "Downloading cymem-2.0.11-cp312-cp312-manylinux_2_17_x86_64.manylinux2014_x86_64.whl (227 kB)\n",
            "Downloading langcodes-3.5.0-py3-none-any.whl (182 kB)\n",
            "Downloading murmurhash-1.0.12-cp312-cp312-manylinux_2_5_x86_64.manylinux1_x86_64.manylinux_2_17_x86_64.manylinux2014_x86_64.whl (138 kB)\n",
            "Downloading preshed-3.0.9-cp312-cp312-manylinux_2_5_x86_64.manylinux1_x86_64.manylinux_2_17_x86_64.manylinux2014_x86_64.whl (156 kB)\n",
            "Downloading spacy_legacy-3.0.12-py2.py3-none-any.whl (29 kB)\n",
            "Downloading spacy_loggers-1.0.5-py3-none-any.whl (22 kB)\n",
            "Downloading srsly-2.5.1-cp312-cp312-manylinux_2_17_x86_64.manylinux2014_x86_64.whl (1.1 MB)\n",
            "\u001b[2K   \u001b[90m━━━━━━━━━━━━━━━━━━━━━━━━━━━━━━━━━━━━━━━━\u001b[0m \u001b[32m1.1/1.1 MB\u001b[0m \u001b[31m115.7 MB/s\u001b[0m eta \u001b[36m0:00:00\u001b[0m\n",
            "\u001b[?25hDownloading thinc-8.3.6-cp312-cp312-manylinux_2_17_x86_64.manylinux2014_x86_64.whl (4.3 MB)\n",
            "\u001b[2K   \u001b[90m━━━━━━━━━━━━━━━━━━━━━━━━━━━━━━━━━━━━━━━━\u001b[0m \u001b[32m4.3/4.3 MB\u001b[0m \u001b[31m155.9 MB/s\u001b[0m eta \u001b[36m0:00:00\u001b[0m\n",
            "\u001b[?25hDownloading wasabi-1.1.3-py3-none-any.whl (27 kB)\n",
            "Downloading weasel-0.4.1-py3-none-any.whl (50 kB)\n",
            "Downloading blis-1.3.0-cp312-cp312-manylinux_2_17_x86_64.manylinux2014_x86_64.whl (11.6 MB)\n",
            "\u001b[2K   \u001b[90m━━━━━━━━━━━━━━━━━━━━━━━━━━━━━━━━━━━━━━━━\u001b[0m \u001b[32m11.6/11.6 MB\u001b[0m \u001b[31m178.2 MB/s\u001b[0m eta \u001b[36m0:00:00\u001b[0m\n",
            "\u001b[?25hDownloading cloudpathlib-0.21.0-py3-none-any.whl (52 kB)\n",
            "Downloading confection-0.1.5-py3-none-any.whl (35 kB)\n",
            "Downloading language_data-1.3.0-py3-none-any.whl (5.4 MB)\n",
            "\u001b[2K   \u001b[90m━━━━━━━━━━━━━━━━━━━━━━━━━━━━━━━━━━━━━━━━\u001b[0m \u001b[32m5.4/5.4 MB\u001b[0m \u001b[31m199.2 MB/s\u001b[0m eta \u001b[36m0:00:00\u001b[0m\n",
            "\u001b[?25hDownloading smart_open-7.1.0-py3-none-any.whl (61 kB)\n",
            "Downloading marisa_trie-1.2.1-cp312-cp312-manylinux_2_17_x86_64.manylinux2014_x86_64.whl (1.4 MB)\n",
            "\u001b[2K   \u001b[90m━━━━━━━━━━━━━━━━━━━━━━━━━━━━━━━━━━━━━━━━\u001b[0m \u001b[32m1.4/1.4 MB\u001b[0m \u001b[31m110.4 MB/s\u001b[0m eta \u001b[36m0:00:00\u001b[0m\n",
            "\u001b[?25hInstalling collected packages: cymem, wasabi, spacy-loggers, spacy-legacy, smart-open, python-multipart, murmurhash, marisa-trie, faiss-cpu, cloudpathlib, catalogue, blis, srsly, preshed, language-data, langcodes, groq, confection, weasel, thinc, spacy\n",
            "Successfully installed blis-1.3.0 catalogue-2.0.10 cloudpathlib-0.21.0 confection-0.1.5 cymem-2.0.11 faiss-cpu-1.10.0 groq-0.23.0 langcodes-3.5.0 language-data-1.3.0 marisa-trie-1.2.1 murmurhash-1.0.12 preshed-3.0.9 python-multipart-0.0.20 smart-open-7.1.0 spacy-3.8.5 spacy-legacy-3.0.12 spacy-loggers-1.0.5 srsly-2.5.1 thinc-8.3.6 wasabi-1.1.3 weasel-0.4.1\n"
          ]
        }
      ],
      "source": [
        "!pip install sentence-transformers chromadb fastapi uvicorn pdfplumber python-multipart faiss-cpu spacy groq"
      ]
    },
    {
      "cell_type": "code",
      "execution_count": 2,
      "metadata": {
        "colab": {
          "base_uri": "https://localhost:8080/"
        },
        "id": "bx8AoJszxyzL",
        "outputId": "e3a891c8-6d62-42b8-a1f1-7176fbe0b6fb"
      },
      "outputs": [
        {
          "name": "stdout",
          "output_type": "stream",
          "text": [
            "Collecting google-cloud-translate\n",
            "  Downloading google_cloud_translate-3.20.2-py3-none-any.whl.metadata (9.6 kB)\n",
            "Collecting google-api-core!=2.0.*,!=2.1.*,!=2.10.*,!=2.2.*,!=2.3.*,!=2.4.*,!=2.5.*,!=2.6.*,!=2.7.*,!=2.8.*,!=2.9.*,<3.0.0,>=1.34.1 (from google-api-core[grpc]!=2.0.*,!=2.1.*,!=2.10.*,!=2.2.*,!=2.3.*,!=2.4.*,!=2.5.*,!=2.6.*,!=2.7.*,!=2.8.*,!=2.9.*,<3.0.0,>=1.34.1->google-cloud-translate)\n",
            "  Downloading google_api_core-2.24.2-py3-none-any.whl.metadata (3.0 kB)\n",
            "Requirement already satisfied: google-auth!=2.24.0,!=2.25.0,<3.0.0,>=2.14.1 in /workspace/.pyenv_mirror/user/current/lib/python3.12/site-packages (from google-cloud-translate) (2.39.0)\n",
            "Collecting google-cloud-core<3.0.0,>=1.4.4 (from google-cloud-translate)\n",
            "  Downloading google_cloud_core-2.4.3-py2.py3-none-any.whl.metadata (2.7 kB)\n",
            "Collecting proto-plus<2.0.0,>=1.22.3 (from google-cloud-translate)\n",
            "  Downloading proto_plus-1.26.1-py3-none-any.whl.metadata (2.2 kB)\n",
            "Requirement already satisfied: protobuf!=4.21.0,!=4.21.1,!=4.21.2,!=4.21.3,!=4.21.4,!=4.21.5,<7.0.0,>=3.20.2 in /workspace/.pyenv_mirror/user/current/lib/python3.12/site-packages (from google-cloud-translate) (5.29.4)\n",
            "Collecting grpc-google-iam-v1<1.0.0,>=0.14.0 (from google-cloud-translate)\n",
            "  Downloading grpc_google_iam_v1-0.14.2-py3-none-any.whl.metadata (9.1 kB)\n",
            "Requirement already satisfied: googleapis-common-protos<2.0.0,>=1.56.2 in /workspace/.pyenv_mirror/user/current/lib/python3.12/site-packages (from google-api-core!=2.0.*,!=2.1.*,!=2.10.*,!=2.2.*,!=2.3.*,!=2.4.*,!=2.5.*,!=2.6.*,!=2.7.*,!=2.8.*,!=2.9.*,<3.0.0,>=1.34.1->google-api-core[grpc]!=2.0.*,!=2.1.*,!=2.10.*,!=2.2.*,!=2.3.*,!=2.4.*,!=2.5.*,!=2.6.*,!=2.7.*,!=2.8.*,!=2.9.*,<3.0.0,>=1.34.1->google-cloud-translate) (1.70.0)\n",
            "Requirement already satisfied: requests<3.0.0,>=2.18.0 in /home/gitpod/.pyenv/versions/3.12.9/lib/python3.12/site-packages (from google-api-core!=2.0.*,!=2.1.*,!=2.10.*,!=2.2.*,!=2.3.*,!=2.4.*,!=2.5.*,!=2.6.*,!=2.7.*,!=2.8.*,!=2.9.*,<3.0.0,>=1.34.1->google-api-core[grpc]!=2.0.*,!=2.1.*,!=2.10.*,!=2.2.*,!=2.3.*,!=2.4.*,!=2.5.*,!=2.6.*,!=2.7.*,!=2.8.*,!=2.9.*,<3.0.0,>=1.34.1->google-cloud-translate) (2.32.3)\n",
            "Requirement already satisfied: grpcio<2.0dev,>=1.33.2 in /workspace/.pyenv_mirror/user/current/lib/python3.12/site-packages (from google-api-core[grpc]!=2.0.*,!=2.1.*,!=2.10.*,!=2.2.*,!=2.3.*,!=2.4.*,!=2.5.*,!=2.6.*,!=2.7.*,!=2.8.*,!=2.9.*,<3.0.0,>=1.34.1->google-cloud-translate) (1.71.0)\n",
            "Collecting grpcio-status<2.0.dev0,>=1.33.2 (from google-api-core[grpc]!=2.0.*,!=2.1.*,!=2.10.*,!=2.2.*,!=2.3.*,!=2.4.*,!=2.5.*,!=2.6.*,!=2.7.*,!=2.8.*,!=2.9.*,<3.0.0,>=1.34.1->google-cloud-translate)\n",
            "  Downloading grpcio_status-1.72.0rc1-py3-none-any.whl.metadata (1.1 kB)\n",
            "Requirement already satisfied: cachetools<6.0,>=2.0.0 in /workspace/.pyenv_mirror/user/current/lib/python3.12/site-packages (from google-auth!=2.24.0,!=2.25.0,<3.0.0,>=2.14.1->google-cloud-translate) (5.5.2)\n",
            "Requirement already satisfied: pyasn1-modules>=0.2.1 in /workspace/.pyenv_mirror/user/current/lib/python3.12/site-packages (from google-auth!=2.24.0,!=2.25.0,<3.0.0,>=2.14.1->google-cloud-translate) (0.4.2)\n",
            "Requirement already satisfied: rsa<5,>=3.1.4 in /workspace/.pyenv_mirror/user/current/lib/python3.12/site-packages (from google-auth!=2.24.0,!=2.25.0,<3.0.0,>=2.14.1->google-cloud-translate) (4.9.1)\n",
            "Collecting protobuf!=4.21.0,!=4.21.1,!=4.21.2,!=4.21.3,!=4.21.4,!=4.21.5,<7.0.0,>=3.20.2 (from google-cloud-translate)\n",
            "  Downloading protobuf-6.31.0rc1-cp39-abi3-manylinux2014_x86_64.whl.metadata (596 bytes)\n",
            "Collecting grpcio<2.0dev,>=1.33.2 (from google-api-core[grpc]!=2.0.*,!=2.1.*,!=2.10.*,!=2.2.*,!=2.3.*,!=2.4.*,!=2.5.*,!=2.6.*,!=2.7.*,!=2.8.*,!=2.9.*,<3.0.0,>=1.34.1->google-cloud-translate)\n",
            "  Downloading grpcio-1.72.0rc1-cp312-cp312-manylinux_2_17_x86_64.manylinux2014_x86_64.whl.metadata (3.8 kB)\n",
            "Requirement already satisfied: pyasn1<0.7.0,>=0.6.1 in /workspace/.pyenv_mirror/user/current/lib/python3.12/site-packages (from pyasn1-modules>=0.2.1->google-auth!=2.24.0,!=2.25.0,<3.0.0,>=2.14.1->google-cloud-translate) (0.6.1)\n",
            "Requirement already satisfied: charset-normalizer<4,>=2 in /home/gitpod/.pyenv/versions/3.12.9/lib/python3.12/site-packages (from requests<3.0.0,>=2.18.0->google-api-core!=2.0.*,!=2.1.*,!=2.10.*,!=2.2.*,!=2.3.*,!=2.4.*,!=2.5.*,!=2.6.*,!=2.7.*,!=2.8.*,!=2.9.*,<3.0.0,>=1.34.1->google-api-core[grpc]!=2.0.*,!=2.1.*,!=2.10.*,!=2.2.*,!=2.3.*,!=2.4.*,!=2.5.*,!=2.6.*,!=2.7.*,!=2.8.*,!=2.9.*,<3.0.0,>=1.34.1->google-cloud-translate) (3.4.1)\n",
            "Requirement already satisfied: idna<4,>=2.5 in /home/gitpod/.pyenv/versions/3.12.9/lib/python3.12/site-packages (from requests<3.0.0,>=2.18.0->google-api-core!=2.0.*,!=2.1.*,!=2.10.*,!=2.2.*,!=2.3.*,!=2.4.*,!=2.5.*,!=2.6.*,!=2.7.*,!=2.8.*,!=2.9.*,<3.0.0,>=1.34.1->google-api-core[grpc]!=2.0.*,!=2.1.*,!=2.10.*,!=2.2.*,!=2.3.*,!=2.4.*,!=2.5.*,!=2.6.*,!=2.7.*,!=2.8.*,!=2.9.*,<3.0.0,>=1.34.1->google-cloud-translate) (3.10)\n",
            "Requirement already satisfied: urllib3<3,>=1.21.1 in /home/gitpod/.pyenv/versions/3.12.9/lib/python3.12/site-packages (from requests<3.0.0,>=2.18.0->google-api-core!=2.0.*,!=2.1.*,!=2.10.*,!=2.2.*,!=2.3.*,!=2.4.*,!=2.5.*,!=2.6.*,!=2.7.*,!=2.8.*,!=2.9.*,<3.0.0,>=1.34.1->google-api-core[grpc]!=2.0.*,!=2.1.*,!=2.10.*,!=2.2.*,!=2.3.*,!=2.4.*,!=2.5.*,!=2.6.*,!=2.7.*,!=2.8.*,!=2.9.*,<3.0.0,>=1.34.1->google-cloud-translate) (2.3.0)\n",
            "Requirement already satisfied: certifi>=2017.4.17 in /home/gitpod/.pyenv/versions/3.12.9/lib/python3.12/site-packages (from requests<3.0.0,>=2.18.0->google-api-core!=2.0.*,!=2.1.*,!=2.10.*,!=2.2.*,!=2.3.*,!=2.4.*,!=2.5.*,!=2.6.*,!=2.7.*,!=2.8.*,!=2.9.*,<3.0.0,>=1.34.1->google-api-core[grpc]!=2.0.*,!=2.1.*,!=2.10.*,!=2.2.*,!=2.3.*,!=2.4.*,!=2.5.*,!=2.6.*,!=2.7.*,!=2.8.*,!=2.9.*,<3.0.0,>=1.34.1->google-cloud-translate) (2025.1.31)\n",
            "Downloading google_cloud_translate-3.20.2-py3-none-any.whl (198 kB)\n",
            "Downloading google_api_core-2.24.2-py3-none-any.whl (160 kB)\n",
            "Downloading google_cloud_core-2.4.3-py2.py3-none-any.whl (29 kB)\n",
            "Downloading grpc_google_iam_v1-0.14.2-py3-none-any.whl (19 kB)\n",
            "Downloading proto_plus-1.26.1-py3-none-any.whl (50 kB)\n",
            "Downloading grpcio_status-1.72.0rc1-py3-none-any.whl (14 kB)\n",
            "Downloading protobuf-6.31.0rc1-cp39-abi3-manylinux2014_x86_64.whl (320 kB)\n",
            "Downloading grpcio-1.72.0rc1-cp312-cp312-manylinux_2_17_x86_64.manylinux2014_x86_64.whl (5.9 MB)\n",
            "\u001b[2K   \u001b[90m━━━━━━━━━━━━━━━━━━━━━━━━━━━━━━━━━━━━━━━━\u001b[0m \u001b[32m5.9/5.9 MB\u001b[0m \u001b[31m210.8 MB/s\u001b[0m eta \u001b[36m0:00:00\u001b[0m\n",
            "\u001b[?25hInstalling collected packages: protobuf, grpcio, proto-plus, grpcio-status, google-api-core, grpc-google-iam-v1, google-cloud-core, google-cloud-translate\n",
            "  Attempting uninstall: protobuf\n",
            "    Found existing installation: protobuf 5.29.4\n",
            "    Uninstalling protobuf-5.29.4:\n",
            "      Successfully uninstalled protobuf-5.29.4\n",
            "  Attempting uninstall: grpcio\n",
            "    Found existing installation: grpcio 1.71.0\n",
            "    Uninstalling grpcio-1.71.0:\n",
            "      Successfully uninstalled grpcio-1.71.0\n",
            "\u001b[31mERROR: pip's dependency resolver does not currently take into account all the packages that are installed. This behaviour is the source of the following dependency conflicts.\n",
            "opentelemetry-proto 1.32.1 requires protobuf<6.0,>=5.0, but you have protobuf 6.31.0rc1 which is incompatible.\u001b[0m\u001b[31m\n",
            "\u001b[0mSuccessfully installed google-api-core-2.24.2 google-cloud-core-2.4.3 google-cloud-translate-3.20.2 grpc-google-iam-v1-0.14.2 grpcio-1.72.0rc1 grpcio-status-1.72.0rc1 proto-plus-1.26.1 protobuf-6.31.0rc1\n"
          ]
        }
      ],
      "source": [
        "!pip install google-cloud-translate"
      ]
    },
    {
      "cell_type": "code",
      "execution_count": 3,
      "metadata": {
        "colab": {
          "base_uri": "https://localhost:8080/"
        },
        "id": "htdjXYQN4OfE",
        "outputId": "c74572d8-f8cb-4eec-8c67-d42131ea741b"
      },
      "outputs": [
        {
          "data": {
            "text/plain": [
              "False"
            ]
          },
          "execution_count": 3,
          "metadata": {},
          "output_type": "execute_result"
        }
      ],
      "source": [
        "import pdfplumber\n",
        "import spacy\n",
        "from sentence_transformers import SentenceTransformer\n",
        "import faiss\n",
        "import numpy as np\n",
        "from transformers import pipeline\n",
        "import chromadb\n",
        "from chromadb.utils import embedding_functions\n",
        "from chromadb.config import Settings\n",
        "import os\n",
        "from dotenv import load_dotenv\n",
        "import warnings\n",
        "import re\n",
        "import openai\n",
        "from groq import Groq\n",
        "from langchain.text_splitter import RecursiveCharacterTextSplitter\n",
        "\n",
        "warnings.filterwarnings(\"ignore\")\n",
        "load_dotenv()"
      ]
    },
    {
      "cell_type": "code",
      "execution_count": 4,
      "metadata": {
        "colab": {
          "base_uri": "https://localhost:8080/"
        },
        "id": "Uv-h8S6Icl7A",
        "outputId": "fb3cf48a-b5ff-44e2-c342-16409a21d23b"
      },
      "outputs": [
        {
          "name": "stdout",
          "output_type": "stream",
          "text": [
            "/usr/bin/sh: 1: nvidia-smi: not found\n"
          ]
        }
      ],
      "source": [
        "!nvidia-smi"
      ]
    },
    {
      "cell_type": "code",
      "execution_count": 5,
      "metadata": {
        "id": "9aj7S1Gi5IeO"
      },
      "outputs": [],
      "source": [
        "# Read the PDF\n",
        "def load_pdf(path):\n",
        "    with pdfplumber.open(path) as pdf:\n",
        "        text = \"\"\n",
        "        for page in pdf.pages:  # Skip TOC/intros if needed\n",
        "            page_text = page.extract_text()\n",
        "            if page_text:\n",
        "                text += page_text + \"\\n\"\n",
        "    return text"
      ]
    },
    {
      "cell_type": "markdown",
      "metadata": {
        "id": "2t22UXQSEf7-"
      },
      "source": [
        "## Chunking by Article\n",
        "- chunking by Article is a very effective strategy for legal documents like a Constitution, since each article is usually self-contained and semantically meaningful.\n",
        "\n",
        "### Good approaches\n",
        "- ✔️ Splitting by 'Article' matches the legal structure of the Constitution.\n",
        "- ✔️ Using SpaCy's sentence segmentation improves boundary recognition, especially where articles span multiple sentences.\n",
        "- ✔️ Trimming whitespace (strip()) which is important for clean chunks.\n",
        "- ✔️ Each chunk becomes a standalone unit for embedding, retrieval, and citation.\n",
        "- ✔️ Using Regular Expressions for Precision i.e `^Article\\s+\\d+[A-Za-z]*`. This helps catch:\n",
        "  - Article 1\n",
        "  - Article 10A\n",
        "  - Article 43B\n",
        "- ✔️ Including an Article Title and Number in Metadata helps in retrieval and citation\n",
        "- Preserve titles like: `\"Article 43 — Economic and social rights\"`"
      ]
    },
    {
      "cell_type": "code",
      "execution_count": 6,
      "metadata": {
        "id": "VBUgI77--76S"
      },
      "outputs": [],
      "source": [
        "# Split the full text into articles (preserve exact titles/content)\n",
        "def chunk_by_article(text):\n",
        "    # Split while keeping the delimiters\n",
        "    parts = re.split(r\"(Article\\s+\\d+[A-Za-z]*[^:\\n]*)\", text, flags=re.IGNORECASE)\n",
        "\n",
        "    chunks = []\n",
        "    for i in range(1, len(parts), 2):\n",
        "        title = parts[i].strip()\n",
        "        content = parts[i+1].strip() if i+1 < len(parts) else \"\"\n",
        "        chunks.append({\n",
        "            \"title\": title,\n",
        "            \"content\": content\n",
        "        })\n",
        "\n",
        "    return chunks\n",
        "\n",
        "# Optional: further chunk large articles\n",
        "text_splitter = RecursiveCharacterTextSplitter(\n",
        "    chunk_size=1000,\n",
        "    chunk_overlap=100\n",
        ")\n",
        "\n",
        "def chunk_articles_finely(articles):\n",
        "    final_chunks = []\n",
        "    for article in articles:\n",
        "        sub_chunks = text_splitter.split_text(article[\"content\"])\n",
        "        for chunk in sub_chunks:\n",
        "            final_chunks.append({\n",
        "                \"title\": article[\"title\"],\n",
        "                \"content\": chunk\n",
        "            })\n",
        "    return final_chunks"
      ]
    },
    {
      "cell_type": "code",
      "execution_count": 7,
      "metadata": {
        "colab": {
          "base_uri": "https://localhost:8080/"
        },
        "id": "WZvet4vCw4GV",
        "outputId": "f9199dc9-6f29-4f50-892f-832ee1d979e3"
      },
      "outputs": [
        {
          "name": "stderr",
          "output_type": "stream",
          "text": [
            "CropBox missing from /Page, defaulting to MediaBox\n",
            "CropBox missing from /Page, defaulting to MediaBox\n",
            "CropBox missing from /Page, defaulting to MediaBox\n",
            "CropBox missing from /Page, defaulting to MediaBox\n",
            "CropBox missing from /Page, defaulting to MediaBox\n",
            "CropBox missing from /Page, defaulting to MediaBox\n",
            "CropBox missing from /Page, defaulting to MediaBox\n",
            "CropBox missing from /Page, defaulting to MediaBox\n",
            "CropBox missing from /Page, defaulting to MediaBox\n",
            "CropBox missing from /Page, defaulting to MediaBox\n",
            "CropBox missing from /Page, defaulting to MediaBox\n",
            "CropBox missing from /Page, defaulting to MediaBox\n",
            "CropBox missing from /Page, defaulting to MediaBox\n",
            "CropBox missing from /Page, defaulting to MediaBox\n",
            "CropBox missing from /Page, defaulting to MediaBox\n",
            "CropBox missing from /Page, defaulting to MediaBox\n",
            "CropBox missing from /Page, defaulting to MediaBox\n",
            "CropBox missing from /Page, defaulting to MediaBox\n",
            "CropBox missing from /Page, defaulting to MediaBox\n",
            "CropBox missing from /Page, defaulting to MediaBox\n",
            "CropBox missing from /Page, defaulting to MediaBox\n",
            "CropBox missing from /Page, defaulting to MediaBox\n",
            "CropBox missing from /Page, defaulting to MediaBox\n",
            "CropBox missing from /Page, defaulting to MediaBox\n",
            "CropBox missing from /Page, defaulting to MediaBox\n",
            "CropBox missing from /Page, defaulting to MediaBox\n",
            "CropBox missing from /Page, defaulting to MediaBox\n",
            "CropBox missing from /Page, defaulting to MediaBox\n",
            "CropBox missing from /Page, defaulting to MediaBox\n",
            "CropBox missing from /Page, defaulting to MediaBox\n",
            "CropBox missing from /Page, defaulting to MediaBox\n",
            "CropBox missing from /Page, defaulting to MediaBox\n",
            "CropBox missing from /Page, defaulting to MediaBox\n",
            "CropBox missing from /Page, defaulting to MediaBox\n",
            "CropBox missing from /Page, defaulting to MediaBox\n",
            "CropBox missing from /Page, defaulting to MediaBox\n",
            "CropBox missing from /Page, defaulting to MediaBox\n",
            "CropBox missing from /Page, defaulting to MediaBox\n",
            "CropBox missing from /Page, defaulting to MediaBox\n",
            "CropBox missing from /Page, defaulting to MediaBox\n",
            "CropBox missing from /Page, defaulting to MediaBox\n",
            "CropBox missing from /Page, defaulting to MediaBox\n",
            "CropBox missing from /Page, defaulting to MediaBox\n",
            "CropBox missing from /Page, defaulting to MediaBox\n",
            "CropBox missing from /Page, defaulting to MediaBox\n",
            "CropBox missing from /Page, defaulting to MediaBox\n",
            "CropBox missing from /Page, defaulting to MediaBox\n",
            "CropBox missing from /Page, defaulting to MediaBox\n",
            "CropBox missing from /Page, defaulting to MediaBox\n",
            "CropBox missing from /Page, defaulting to MediaBox\n",
            "CropBox missing from /Page, defaulting to MediaBox\n",
            "CropBox missing from /Page, defaulting to MediaBox\n",
            "CropBox missing from /Page, defaulting to MediaBox\n",
            "CropBox missing from /Page, defaulting to MediaBox\n",
            "CropBox missing from /Page, defaulting to MediaBox\n",
            "CropBox missing from /Page, defaulting to MediaBox\n",
            "CropBox missing from /Page, defaulting to MediaBox\n",
            "CropBox missing from /Page, defaulting to MediaBox\n",
            "CropBox missing from /Page, defaulting to MediaBox\n",
            "CropBox missing from /Page, defaulting to MediaBox\n",
            "CropBox missing from /Page, defaulting to MediaBox\n",
            "CropBox missing from /Page, defaulting to MediaBox\n",
            "CropBox missing from /Page, defaulting to MediaBox\n",
            "CropBox missing from /Page, defaulting to MediaBox\n",
            "CropBox missing from /Page, defaulting to MediaBox\n",
            "CropBox missing from /Page, defaulting to MediaBox\n",
            "CropBox missing from /Page, defaulting to MediaBox\n",
            "CropBox missing from /Page, defaulting to MediaBox\n",
            "CropBox missing from /Page, defaulting to MediaBox\n",
            "CropBox missing from /Page, defaulting to MediaBox\n",
            "CropBox missing from /Page, defaulting to MediaBox\n",
            "CropBox missing from /Page, defaulting to MediaBox\n",
            "CropBox missing from /Page, defaulting to MediaBox\n",
            "CropBox missing from /Page, defaulting to MediaBox\n",
            "CropBox missing from /Page, defaulting to MediaBox\n",
            "CropBox missing from /Page, defaulting to MediaBox\n",
            "CropBox missing from /Page, defaulting to MediaBox\n",
            "CropBox missing from /Page, defaulting to MediaBox\n",
            "CropBox missing from /Page, defaulting to MediaBox\n",
            "CropBox missing from /Page, defaulting to MediaBox\n",
            "CropBox missing from /Page, defaulting to MediaBox\n",
            "CropBox missing from /Page, defaulting to MediaBox\n",
            "CropBox missing from /Page, defaulting to MediaBox\n",
            "CropBox missing from /Page, defaulting to MediaBox\n",
            "CropBox missing from /Page, defaulting to MediaBox\n",
            "CropBox missing from /Page, defaulting to MediaBox\n"
          ]
        },
        {
          "name": "stderr",
          "output_type": "stream",
          "text": [
            "CropBox missing from /Page, defaulting to MediaBox\n",
            "CropBox missing from /Page, defaulting to MediaBox\n",
            "CropBox missing from /Page, defaulting to MediaBox\n",
            "CropBox missing from /Page, defaulting to MediaBox\n",
            "CropBox missing from /Page, defaulting to MediaBox\n",
            "CropBox missing from /Page, defaulting to MediaBox\n",
            "CropBox missing from /Page, defaulting to MediaBox\n",
            "CropBox missing from /Page, defaulting to MediaBox\n",
            "CropBox missing from /Page, defaulting to MediaBox\n",
            "CropBox missing from /Page, defaulting to MediaBox\n",
            "CropBox missing from /Page, defaulting to MediaBox\n",
            "CropBox missing from /Page, defaulting to MediaBox\n",
            "CropBox missing from /Page, defaulting to MediaBox\n",
            "CropBox missing from /Page, defaulting to MediaBox\n",
            "CropBox missing from /Page, defaulting to MediaBox\n",
            "CropBox missing from /Page, defaulting to MediaBox\n",
            "CropBox missing from /Page, defaulting to MediaBox\n",
            "CropBox missing from /Page, defaulting to MediaBox\n",
            "CropBox missing from /Page, defaulting to MediaBox\n",
            "CropBox missing from /Page, defaulting to MediaBox\n",
            "CropBox missing from /Page, defaulting to MediaBox\n",
            "CropBox missing from /Page, defaulting to MediaBox\n",
            "CropBox missing from /Page, defaulting to MediaBox\n",
            "CropBox missing from /Page, defaulting to MediaBox\n",
            "CropBox missing from /Page, defaulting to MediaBox\n",
            "CropBox missing from /Page, defaulting to MediaBox\n",
            "CropBox missing from /Page, defaulting to MediaBox\n",
            "CropBox missing from /Page, defaulting to MediaBox\n",
            "CropBox missing from /Page, defaulting to MediaBox\n",
            "CropBox missing from /Page, defaulting to MediaBox\n",
            "CropBox missing from /Page, defaulting to MediaBox\n",
            "CropBox missing from /Page, defaulting to MediaBox\n",
            "CropBox missing from /Page, defaulting to MediaBox\n",
            "CropBox missing from /Page, defaulting to MediaBox\n",
            "CropBox missing from /Page, defaulting to MediaBox\n",
            "CropBox missing from /Page, defaulting to MediaBox\n",
            "CropBox missing from /Page, defaulting to MediaBox\n",
            "CropBox missing from /Page, defaulting to MediaBox\n",
            "CropBox missing from /Page, defaulting to MediaBox\n",
            "CropBox missing from /Page, defaulting to MediaBox\n",
            "CropBox missing from /Page, defaulting to MediaBox\n",
            "CropBox missing from /Page, defaulting to MediaBox\n",
            "CropBox missing from /Page, defaulting to MediaBox\n",
            "CropBox missing from /Page, defaulting to MediaBox\n",
            "CropBox missing from /Page, defaulting to MediaBox\n",
            "CropBox missing from /Page, defaulting to MediaBox\n",
            "CropBox missing from /Page, defaulting to MediaBox\n",
            "CropBox missing from /Page, defaulting to MediaBox\n",
            "CropBox missing from /Page, defaulting to MediaBox\n",
            "CropBox missing from /Page, defaulting to MediaBox\n",
            "CropBox missing from /Page, defaulting to MediaBox\n",
            "CropBox missing from /Page, defaulting to MediaBox\n",
            "CropBox missing from /Page, defaulting to MediaBox\n",
            "CropBox missing from /Page, defaulting to MediaBox\n",
            "CropBox missing from /Page, defaulting to MediaBox\n",
            "CropBox missing from /Page, defaulting to MediaBox\n",
            "CropBox missing from /Page, defaulting to MediaBox\n",
            "CropBox missing from /Page, defaulting to MediaBox\n",
            "CropBox missing from /Page, defaulting to MediaBox\n",
            "CropBox missing from /Page, defaulting to MediaBox\n",
            "CropBox missing from /Page, defaulting to MediaBox\n",
            "CropBox missing from /Page, defaulting to MediaBox\n",
            "CropBox missing from /Page, defaulting to MediaBox\n",
            "CropBox missing from /Page, defaulting to MediaBox\n",
            "CropBox missing from /Page, defaulting to MediaBox\n",
            "CropBox missing from /Page, defaulting to MediaBox\n",
            "CropBox missing from /Page, defaulting to MediaBox\n",
            "CropBox missing from /Page, defaulting to MediaBox\n",
            "CropBox missing from /Page, defaulting to MediaBox\n",
            "CropBox missing from /Page, defaulting to MediaBox\n",
            "CropBox missing from /Page, defaulting to MediaBox\n",
            "CropBox missing from /Page, defaulting to MediaBox\n",
            "CropBox missing from /Page, defaulting to MediaBox\n",
            "CropBox missing from /Page, defaulting to MediaBox\n",
            "CropBox missing from /Page, defaulting to MediaBox\n",
            "CropBox missing from /Page, defaulting to MediaBox\n",
            "CropBox missing from /Page, defaulting to MediaBox\n",
            "CropBox missing from /Page, defaulting to MediaBox\n",
            "CropBox missing from /Page, defaulting to MediaBox\n",
            "CropBox missing from /Page, defaulting to MediaBox\n",
            "CropBox missing from /Page, defaulting to MediaBox\n",
            "CropBox missing from /Page, defaulting to MediaBox\n",
            "CropBox missing from /Page, defaulting to MediaBox\n",
            "CropBox missing from /Page, defaulting to MediaBox\n",
            "CropBox missing from /Page, defaulting to MediaBox\n",
            "CropBox missing from /Page, defaulting to MediaBox\n",
            "CropBox missing from /Page, defaulting to MediaBox\n",
            "CropBox missing from /Page, defaulting to MediaBox\n",
            "CropBox missing from /Page, defaulting to MediaBox\n",
            "CropBox missing from /Page, defaulting to MediaBox\n",
            "CropBox missing from /Page, defaulting to MediaBox\n",
            "CropBox missing from /Page, defaulting to MediaBox\n",
            "CropBox missing from /Page, defaulting to MediaBox\n",
            "CropBox missing from /Page, defaulting to MediaBox\n",
            "CropBox missing from /Page, defaulting to MediaBox\n",
            "CropBox missing from /Page, defaulting to MediaBox\n",
            "CropBox missing from /Page, defaulting to MediaBox\n",
            "CropBox missing from /Page, defaulting to MediaBox\n",
            "CropBox missing from /Page, defaulting to MediaBox\n",
            "CropBox missing from /Page, defaulting to MediaBox\n",
            "CropBox missing from /Page, defaulting to MediaBox\n",
            "CropBox missing from /Page, defaulting to MediaBox\n",
            "CropBox missing from /Page, defaulting to MediaBox\n",
            "CropBox missing from /Page, defaulting to MediaBox\n",
            "CropBox missing from /Page, defaulting to MediaBox\n",
            "CropBox missing from /Page, defaulting to MediaBox\n",
            "CropBox missing from /Page, defaulting to MediaBox\n",
            "CropBox missing from /Page, defaulting to MediaBox\n",
            "CropBox missing from /Page, defaulting to MediaBox\n",
            "CropBox missing from /Page, defaulting to MediaBox\n",
            "CropBox missing from /Page, defaulting to MediaBox\n",
            "CropBox missing from /Page, defaulting to MediaBox\n",
            "CropBox missing from /Page, defaulting to MediaBox\n",
            "CropBox missing from /Page, defaulting to MediaBox\n",
            "CropBox missing from /Page, defaulting to MediaBox\n",
            "CropBox missing from /Page, defaulting to MediaBox\n",
            "CropBox missing from /Page, defaulting to MediaBox\n",
            "CropBox missing from /Page, defaulting to MediaBox\n",
            "CropBox missing from /Page, defaulting to MediaBox\n",
            "CropBox missing from /Page, defaulting to MediaBox\n",
            "CropBox missing from /Page, defaulting to MediaBox\n",
            "CropBox missing from /Page, defaulting to MediaBox\n",
            "CropBox missing from /Page, defaulting to MediaBox\n",
            "CropBox missing from /Page, defaulting to MediaBox\n",
            "CropBox missing from /Page, defaulting to MediaBox\n",
            "CropBox missing from /Page, defaulting to MediaBox\n",
            "CropBox missing from /Page, defaulting to MediaBox\n",
            "CropBox missing from /Page, defaulting to MediaBox\n",
            "CropBox missing from /Page, defaulting to MediaBox\n",
            "CropBox missing from /Page, defaulting to MediaBox\n",
            "CropBox missing from /Page, defaulting to MediaBox\n",
            "CropBox missing from /Page, defaulting to MediaBox\n",
            "CropBox missing from /Page, defaulting to MediaBox\n",
            "CropBox missing from /Page, defaulting to MediaBox\n",
            "CropBox missing from /Page, defaulting to MediaBox\n",
            "CropBox missing from /Page, defaulting to MediaBox\n",
            "CropBox missing from /Page, defaulting to MediaBox\n",
            "CropBox missing from /Page, defaulting to MediaBox\n",
            "CropBox missing from /Page, defaulting to MediaBox\n",
            "CropBox missing from /Page, defaulting to MediaBox\n",
            "CropBox missing from /Page, defaulting to MediaBox\n",
            "CropBox missing from /Page, defaulting to MediaBox\n",
            "CropBox missing from /Page, defaulting to MediaBox\n",
            "CropBox missing from /Page, defaulting to MediaBox\n",
            "CropBox missing from /Page, defaulting to MediaBox\n",
            "CropBox missing from /Page, defaulting to MediaBox\n",
            "CropBox missing from /Page, defaulting to MediaBox\n",
            "CropBox missing from /Page, defaulting to MediaBox\n",
            "CropBox missing from /Page, defaulting to MediaBox\n",
            "CropBox missing from /Page, defaulting to MediaBox\n",
            "CropBox missing from /Page, defaulting to MediaBox\n",
            "CropBox missing from /Page, defaulting to MediaBox\n",
            "CropBox missing from /Page, defaulting to MediaBox\n",
            "CropBox missing from /Page, defaulting to MediaBox\n",
            "CropBox missing from /Page, defaulting to MediaBox\n",
            "CropBox missing from /Page, defaulting to MediaBox\n",
            "CropBox missing from /Page, defaulting to MediaBox\n",
            "CropBox missing from /Page, defaulting to MediaBox\n",
            "CropBox missing from /Page, defaulting to MediaBox\n",
            "CropBox missing from /Page, defaulting to MediaBox\n",
            "CropBox missing from /Page, defaulting to MediaBox\n",
            "CropBox missing from /Page, defaulting to MediaBox\n",
            "CropBox missing from /Page, defaulting to MediaBox\n",
            "CropBox missing from /Page, defaulting to MediaBox\n",
            "CropBox missing from /Page, defaulting to MediaBox\n",
            "CropBox missing from /Page, defaulting to MediaBox\n",
            "CropBox missing from /Page, defaulting to MediaBox\n",
            "CropBox missing from /Page, defaulting to MediaBox\n",
            "CropBox missing from /Page, defaulting to MediaBox\n",
            "CropBox missing from /Page, defaulting to MediaBox\n",
            "CropBox missing from /Page, defaulting to MediaBox\n",
            "CropBox missing from /Page, defaulting to MediaBox\n",
            "CropBox missing from /Page, defaulting to MediaBox\n",
            "CropBox missing from /Page, defaulting to MediaBox\n",
            "CropBox missing from /Page, defaulting to MediaBox\n",
            "CropBox missing from /Page, defaulting to MediaBox\n",
            "CropBox missing from /Page, defaulting to MediaBox\n",
            "CropBox missing from /Page, defaulting to MediaBox\n",
            "CropBox missing from /Page, defaulting to MediaBox\n",
            "CropBox missing from /Page, defaulting to MediaBox\n",
            "CropBox missing from /Page, defaulting to MediaBox\n",
            "CropBox missing from /Page, defaulting to MediaBox\n",
            "CropBox missing from /Page, defaulting to MediaBox\n",
            "CropBox missing from /Page, defaulting to MediaBox\n",
            "CropBox missing from /Page, defaulting to MediaBox\n",
            "CropBox missing from /Page, defaulting to MediaBox\n",
            "CropBox missing from /Page, defaulting to MediaBox\n",
            "CropBox missing from /Page, defaulting to MediaBox\n",
            "CropBox missing from /Page, defaulting to MediaBox\n",
            "CropBox missing from /Page, defaulting to MediaBox\n",
            "CropBox missing from /Page, defaulting to MediaBox\n",
            "CropBox missing from /Page, defaulting to MediaBox\n",
            "CropBox missing from /Page, defaulting to MediaBox\n",
            "CropBox missing from /Page, defaulting to MediaBox\n",
            "CropBox missing from /Page, defaulting to MediaBox\n",
            "CropBox missing from /Page, defaulting to MediaBox\n",
            "CropBox missing from /Page, defaulting to MediaBox\n",
            "CropBox missing from /Page, defaulting to MediaBox\n",
            "CropBox missing from /Page, defaulting to MediaBox\n",
            "CropBox missing from /Page, defaulting to MediaBox\n",
            "CropBox missing from /Page, defaulting to MediaBox\n",
            "CropBox missing from /Page, defaulting to MediaBox\n",
            "CropBox missing from /Page, defaulting to MediaBox\n",
            "CropBox missing from /Page, defaulting to MediaBox\n",
            "CropBox missing from /Page, defaulting to MediaBox\n",
            "CropBox missing from /Page, defaulting to MediaBox\n",
            "CropBox missing from /Page, defaulting to MediaBox\n",
            "CropBox missing from /Page, defaulting to MediaBox\n",
            "CropBox missing from /Page, defaulting to MediaBox\n",
            "CropBox missing from /Page, defaulting to MediaBox\n",
            "CropBox missing from /Page, defaulting to MediaBox\n",
            "CropBox missing from /Page, defaulting to MediaBox\n",
            "CropBox missing from /Page, defaulting to MediaBox\n",
            "CropBox missing from /Page, defaulting to MediaBox\n",
            "CropBox missing from /Page, defaulting to MediaBox\n",
            "CropBox missing from /Page, defaulting to MediaBox\n",
            "CropBox missing from /Page, defaulting to MediaBox\n",
            "CropBox missing from /Page, defaulting to MediaBox\n",
            "CropBox missing from /Page, defaulting to MediaBox\n",
            "CropBox missing from /Page, defaulting to MediaBox\n",
            "CropBox missing from /Page, defaulting to MediaBox\n",
            "CropBox missing from /Page, defaulting to MediaBox\n",
            "CropBox missing from /Page, defaulting to MediaBox\n",
            "CropBox missing from /Page, defaulting to MediaBox\n",
            "CropBox missing from /Page, defaulting to MediaBox\n",
            "CropBox missing from /Page, defaulting to MediaBox\n",
            "CropBox missing from /Page, defaulting to MediaBox\n",
            "CropBox missing from /Page, defaulting to MediaBox\n",
            "CropBox missing from /Page, defaulting to MediaBox\n",
            "CropBox missing from /Page, defaulting to MediaBox\n",
            "CropBox missing from /Page, defaulting to MediaBox\n",
            "CropBox missing from /Page, defaulting to MediaBox\n",
            "CropBox missing from /Page, defaulting to MediaBox\n",
            "CropBox missing from /Page, defaulting to MediaBox\n",
            "CropBox missing from /Page, defaulting to MediaBox\n",
            "CropBox missing from /Page, defaulting to MediaBox\n",
            "CropBox missing from /Page, defaulting to MediaBox\n",
            "CropBox missing from /Page, defaulting to MediaBox\n",
            "CropBox missing from /Page, defaulting to MediaBox\n",
            "CropBox missing from /Page, defaulting to MediaBox\n",
            "CropBox missing from /Page, defaulting to MediaBox\n",
            "CropBox missing from /Page, defaulting to MediaBox\n",
            "CropBox missing from /Page, defaulting to MediaBox\n",
            "CropBox missing from /Page, defaulting to MediaBox\n",
            "CropBox missing from /Page, defaulting to MediaBox\n",
            "CropBox missing from /Page, defaulting to MediaBox\n",
            "CropBox missing from /Page, defaulting to MediaBox\n",
            "CropBox missing from /Page, defaulting to MediaBox\n",
            "CropBox missing from /Page, defaulting to MediaBox\n",
            "CropBox missing from /Page, defaulting to MediaBox\n",
            "CropBox missing from /Page, defaulting to MediaBox\n",
            "CropBox missing from /Page, defaulting to MediaBox\n",
            "CropBox missing from /Page, defaulting to MediaBox\n",
            "CropBox missing from /Page, defaulting to MediaBox\n",
            "CropBox missing from /Page, defaulting to MediaBox\n",
            "CropBox missing from /Page, defaulting to MediaBox\n",
            "CropBox missing from /Page, defaulting to MediaBox\n",
            "CropBox missing from /Page, defaulting to MediaBox\n",
            "CropBox missing from /Page, defaulting to MediaBox\n",
            "CropBox missing from /Page, defaulting to MediaBox\n",
            "CropBox missing from /Page, defaulting to MediaBox\n",
            "CropBox missing from /Page, defaulting to MediaBox\n",
            "CropBox missing from /Page, defaulting to MediaBox\n",
            "CropBox missing from /Page, defaulting to MediaBox\n",
            "CropBox missing from /Page, defaulting to MediaBox\n",
            "CropBox missing from /Page, defaulting to MediaBox\n",
            "CropBox missing from /Page, defaulting to MediaBox\n",
            "CropBox missing from /Page, defaulting to MediaBox\n",
            "CropBox missing from /Page, defaulting to MediaBox\n",
            "CropBox missing from /Page, defaulting to MediaBox\n",
            "CropBox missing from /Page, defaulting to MediaBox\n",
            "CropBox missing from /Page, defaulting to MediaBox\n",
            "CropBox missing from /Page, defaulting to MediaBox\n",
            "CropBox missing from /Page, defaulting to MediaBox\n",
            "CropBox missing from /Page, defaulting to MediaBox\n",
            "CropBox missing from /Page, defaulting to MediaBox\n",
            "CropBox missing from /Page, defaulting to MediaBox\n",
            "CropBox missing from /Page, defaulting to MediaBox\n",
            "CropBox missing from /Page, defaulting to MediaBox\n",
            "CropBox missing from /Page, defaulting to MediaBox\n",
            "CropBox missing from /Page, defaulting to MediaBox\n",
            "CropBox missing from /Page, defaulting to MediaBox\n",
            "CropBox missing from /Page, defaulting to MediaBox\n",
            "CropBox missing from /Page, defaulting to MediaBox\n",
            "CropBox missing from /Page, defaulting to MediaBox\n",
            "CropBox missing from /Page, defaulting to MediaBox\n",
            "CropBox missing from /Page, defaulting to MediaBox\n",
            "CropBox missing from /Page, defaulting to MediaBox\n",
            "CropBox missing from /Page, defaulting to MediaBox\n",
            "CropBox missing from /Page, defaulting to MediaBox\n",
            "CropBox missing from /Page, defaulting to MediaBox\n",
            "CropBox missing from /Page, defaulting to MediaBox\n",
            "CropBox missing from /Page, defaulting to MediaBox\n",
            "CropBox missing from /Page, defaulting to MediaBox\n",
            "CropBox missing from /Page, defaulting to MediaBox\n",
            "CropBox missing from /Page, defaulting to MediaBox\n",
            "CropBox missing from /Page, defaulting to MediaBox\n",
            "CropBox missing from /Page, defaulting to MediaBox\n",
            "CropBox missing from /Page, defaulting to MediaBox\n",
            "CropBox missing from /Page, defaulting to MediaBox\n",
            "CropBox missing from /Page, defaulting to MediaBox\n",
            "CropBox missing from /Page, defaulting to MediaBox\n",
            "CropBox missing from /Page, defaulting to MediaBox\n",
            "CropBox missing from /Page, defaulting to MediaBox\n",
            "CropBox missing from /Page, defaulting to MediaBox\n",
            "CropBox missing from /Page, defaulting to MediaBox\n",
            "CropBox missing from /Page, defaulting to MediaBox\n",
            "CropBox missing from /Page, defaulting to MediaBox\n",
            "CropBox missing from /Page, defaulting to MediaBox\n",
            "CropBox missing from /Page, defaulting to MediaBox\n",
            "CropBox missing from /Page, defaulting to MediaBox\n",
            "CropBox missing from /Page, defaulting to MediaBox\n",
            "CropBox missing from /Page, defaulting to MediaBox\n",
            "CropBox missing from /Page, defaulting to MediaBox\n",
            "CropBox missing from /Page, defaulting to MediaBox\n",
            "CropBox missing from /Page, defaulting to MediaBox\n",
            "CropBox missing from /Page, defaulting to MediaBox\n",
            "CropBox missing from /Page, defaulting to MediaBox\n",
            "CropBox missing from /Page, defaulting to MediaBox\n",
            "CropBox missing from /Page, defaulting to MediaBox\n",
            "CropBox missing from /Page, defaulting to MediaBox\n",
            "CropBox missing from /Page, defaulting to MediaBox\n",
            "CropBox missing from /Page, defaulting to MediaBox\n",
            "CropBox missing from /Page, defaulting to MediaBox\n",
            "CropBox missing from /Page, defaulting to MediaBox\n",
            "CropBox missing from /Page, defaulting to MediaBox\n",
            "CropBox missing from /Page, defaulting to MediaBox\n",
            "CropBox missing from /Page, defaulting to MediaBox\n",
            "CropBox missing from /Page, defaulting to MediaBox\n",
            "CropBox missing from /Page, defaulting to MediaBox\n",
            "CropBox missing from /Page, defaulting to MediaBox\n",
            "CropBox missing from /Page, defaulting to MediaBox\n",
            "CropBox missing from /Page, defaulting to MediaBox\n",
            "CropBox missing from /Page, defaulting to MediaBox\n",
            "CropBox missing from /Page, defaulting to MediaBox\n",
            "CropBox missing from /Page, defaulting to MediaBox\n"
          ]
        }
      ],
      "source": [
        "# Load and chunk\n",
        "text = load_pdf(\"/workspace/Constitution-of-Kenya-RAG-System/data/ken127322.pdf\")\n",
        "articles = chunk_by_article(text)\n",
        "docs = chunk_articles_finely(articles)"
      ]
    },
    {
      "cell_type": "markdown",
      "metadata": {
        "id": "MMTHTaTWM_Pd"
      },
      "source": [
        "### Creating Embeddings\n",
        "- Embeddings are numerical vector representations of text, allowing you to measure semantic similarity between a query and the chunks (articles)."
      ]
    },
    {
      "cell_type": "code",
      "execution_count": 8,
      "metadata": {
        "colab": {
          "base_uri": "https://localhost:8080/",
          "height": 49,
          "referenced_widgets": [
            "55350b7cd4ce41dc96d436cd14eb1f22",
            "6e67e0aa848c480f9ccddcfa8e7eb9de",
            "a4ba8d0822e44bd9b9efe87991e36174",
            "597f4bd3934a47c0aefae6a794c6cde7",
            "34d162a49a8a4d6da18b1311c13f42e3",
            "990e57f7f60b4794991465a6e04d2fb6",
            "49d432892b8849b78a4502777f4fe911",
            "75ec7b387554492bbab8ae6c0b16d01c",
            "0b890a9499c0468db58cfa2f44065168",
            "89ef64e4c25e4317b8b43ab287400780",
            "8dbb703e5c7d4e19912fb089680db6e3"
          ]
        },
        "id": "3EvdPzs5NMwD",
        "outputId": "b0bed72f-e824-4697-c6da-e1238773923a"
      },
      "outputs": [
        {
          "data": {
            "application/vnd.jupyter.widget-view+json": {
              "model_id": "8dea56e8efa642e2b3a652c6eb3cb9c9",
              "version_major": 2,
              "version_minor": 0
            },
            "text/plain": [
              "modules.json:   0%|          | 0.00/349 [00:00<?, ?B/s]"
            ]
          },
          "metadata": {},
          "output_type": "display_data"
        },
        {
          "data": {
            "application/vnd.jupyter.widget-view+json": {
              "model_id": "4b90c296940a4e48b7a19b467ab293df",
              "version_major": 2,
              "version_minor": 0
            },
            "text/plain": [
              "config_sentence_transformers.json:   0%|          | 0.00/116 [00:00<?, ?B/s]"
            ]
          },
          "metadata": {},
          "output_type": "display_data"
        },
        {
          "data": {
            "application/vnd.jupyter.widget-view+json": {
              "model_id": "9b5a4e847c524be9af2ae6d9b8c14425",
              "version_major": 2,
              "version_minor": 0
            },
            "text/plain": [
              "README.md:   0%|          | 0.00/10.5k [00:00<?, ?B/s]"
            ]
          },
          "metadata": {},
          "output_type": "display_data"
        },
        {
          "data": {
            "application/vnd.jupyter.widget-view+json": {
              "model_id": "41589683e3b24d23ba063a2183d72a38",
              "version_major": 2,
              "version_minor": 0
            },
            "text/plain": [
              "sentence_bert_config.json:   0%|          | 0.00/53.0 [00:00<?, ?B/s]"
            ]
          },
          "metadata": {},
          "output_type": "display_data"
        },
        {
          "data": {
            "application/vnd.jupyter.widget-view+json": {
              "model_id": "f426fa418e5b4762bf4c3d1c55c50582",
              "version_major": 2,
              "version_minor": 0
            },
            "text/plain": [
              "config.json:   0%|          | 0.00/612 [00:00<?, ?B/s]"
            ]
          },
          "metadata": {},
          "output_type": "display_data"
        },
        {
          "name": "stderr",
          "output_type": "stream",
          "text": [
            "Xet Storage is enabled for this repo, but the 'hf_xet' package is not installed. Falling back to regular HTTP download. For better performance, install the package with: `pip install huggingface_hub[hf_xet]` or `pip install hf_xet`\n"
          ]
        },
        {
          "data": {
            "application/vnd.jupyter.widget-view+json": {
              "model_id": "556bf0f7341e44a59224916f0fee25a5",
              "version_major": 2,
              "version_minor": 0
            },
            "text/plain": [
              "model.safetensors:   0%|          | 0.00/90.9M [00:00<?, ?B/s]"
            ]
          },
          "metadata": {},
          "output_type": "display_data"
        },
        {
          "data": {
            "application/vnd.jupyter.widget-view+json": {
              "model_id": "e0d11ed488184d4d8277d45007d0e762",
              "version_major": 2,
              "version_minor": 0
            },
            "text/plain": [
              "tokenizer_config.json:   0%|          | 0.00/350 [00:00<?, ?B/s]"
            ]
          },
          "metadata": {},
          "output_type": "display_data"
        },
        {
          "data": {
            "application/vnd.jupyter.widget-view+json": {
              "model_id": "499a7861c91a46ab8bc7a308597b88ff",
              "version_major": 2,
              "version_minor": 0
            },
            "text/plain": [
              "vocab.txt:   0%|          | 0.00/232k [00:00<?, ?B/s]"
            ]
          },
          "metadata": {},
          "output_type": "display_data"
        },
        {
          "data": {
            "application/vnd.jupyter.widget-view+json": {
              "model_id": "08835c17f08e4772a598b617d10fc5a6",
              "version_major": 2,
              "version_minor": 0
            },
            "text/plain": [
              "tokenizer.json:   0%|          | 0.00/466k [00:00<?, ?B/s]"
            ]
          },
          "metadata": {},
          "output_type": "display_data"
        },
        {
          "data": {
            "application/vnd.jupyter.widget-view+json": {
              "model_id": "69ccc488cccb4b998b358137d231b9c6",
              "version_major": 2,
              "version_minor": 0
            },
            "text/plain": [
              "special_tokens_map.json:   0%|          | 0.00/112 [00:00<?, ?B/s]"
            ]
          },
          "metadata": {},
          "output_type": "display_data"
        },
        {
          "data": {
            "application/vnd.jupyter.widget-view+json": {
              "model_id": "9983485d0fdb4820ab65d21db6a886cb",
              "version_major": 2,
              "version_minor": 0
            },
            "text/plain": [
              "config.json:   0%|          | 0.00/190 [00:00<?, ?B/s]"
            ]
          },
          "metadata": {},
          "output_type": "display_data"
        },
        {
          "data": {
            "application/vnd.jupyter.widget-view+json": {
              "model_id": "d84f21fb014e4364b5cde21674ace41b",
              "version_major": 2,
              "version_minor": 0
            },
            "text/plain": [
              "Batches:   0%|          | 0/16 [00:00<?, ?it/s]"
            ]
          },
          "metadata": {},
          "output_type": "display_data"
        }
      ],
      "source": [
        "# creating embeddings\n",
        "model = SentenceTransformer('all-MiniLM-L6-v2')\n",
        "embeddings = model.encode([doc['content'] for doc in docs], show_progress_bar=True)"
      ]
    },
    {
      "cell_type": "code",
      "execution_count": null,
      "metadata": {
        "id": "4NL4hP7JztWF"
      },
      "outputs": [],
      "source": [
        "# Setting up Chroma\n",
        "client = chromadb.PersistentClient(path = \"chroma_store\")\n",
        "collection = client.get_or_create_collection(name = \"Kenya_constitution\")\n",
        "\n",
        "# Saving to ChromaDB\n",
        "collection.add(\n",
        "    ids = [str(i) for i in range(len(docs))],\n",
        "    documents = [doc[\"content\"] for doc in docs],\n",
        "    metadatas = [{\"title\": doc[\"title\"]} for doc in docs],\n",
        "    embeddings = embeddings\n",
        ")"
      ]
    },
    {
      "cell_type": "markdown",
      "metadata": {
        "id": "F9gnTJus5MAT"
      },
      "source": [
        "### Setting up Groq"
      ]
    },
    {
      "cell_type": "code",
      "execution_count": 10,
      "metadata": {
        "id": "M2NUircD23yZ"
      },
      "outputs": [],
      "source": [
        "# Setting manually the api_key notebook session\n",
        "os.environ[\"GROQ_API_KEY\"] = \"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\"\n",
        "# openai.base_url = \"https://api.groq.com/openai/v1\" # Base URL"
      ]
    },
    {
      "cell_type": "code",
      "execution_count": null,
      "metadata": {
        "id": "n4zB4XQW6aEh"
      },
      "outputs": [],
      "source": [
        "def generate_response(prompt, language = \"en\"):\n",
        "  # querying chroma\n",
        "  results = collection.query(query_texts= [prompt], n_results = 3)\n",
        "  context = \"\\n\\n\".join(results[\"documents\"][0])\n",
        "\n",
        "  # Setting prompt based on language\n",
        "  system_instrusctions = {\n",
        "      \"en\": \"You are a legal assistant answering only based on the Kenyan Constitution\",\n",
        "      \"sw\" : \"Wewe ni mtaalamu wa sheria unayejibu maswali kwa kutumia Katiba ya Kenya. Jibu kwa Kiswahili pekee.\"\n",
        "  }\n",
        "\n",
        "  # initializing groq\n",
        "  client = Groq(\n",
        "    api_key=os.environ.get(\"GROQ_API_KEY\"),  # This is the default and can be omitted\n",
        "  )\n",
        "\n",
        "  # Sending to Groq-compatible LLM\n",
        "  completion = client.chat.completions.create(\n",
        "      model = \"llama3-8b-8192\",\n",
        "      messages = [\n",
        "           {\"role\": \"system\", \"content\": system_instrusctions.get(language, system_instrusctions[\"en\"])},\n",
        "           {\"role\": \"user\", \"content\": f\"Context:{context} Question: {prompt}\"}\n",
        "          ],\n",
        "      temperature = 0.3,\n",
        "      max_tokens = 300,\n",
        "  )\n",
        "\n",
        "  return completion.choices[0].message.content\n"
      ]
    },
    {
      "cell_type": "code",
      "execution_count": null,
      "metadata": {
        "colab": {
          "base_uri": "https://localhost:8080/",
          "height": 161
        },
        "id": "bEMgF19dQqPo",
        "outputId": "3f3a9a84-7d0b-46f4-fcba-fca787cdb36c"
      },
      "outputs": [
        {
          "data": {
            "application/vnd.google.colaboratory.intrinsic+json": {
              "type": "string"
            },
            "text/plain": [
              "'According to Article 49(1) of the Constitution of Kenya, 2010, an arrested person has the right to be informed promptly, in a language they understand, of:\\n\\n(a) The reason for the arrest\\n(b) The right to remain silent\\n(c) The consequences of not remaining silent\\n\\nAdditionally, Article 49(2) provides that an arrested person has the right to assist a complainant or an accused person to communicate with the court.\\n\\nFurthermore, Article 49(3) provides that an arrested person has the right to:\\n\\n(a) Remain silent\\n(b) Communicate with an advocate, and other persons whose assistance is necessary\\n(c) Not be compelled to make any confession or admission that could be used in evidence against the person\\n(d) Be held separately from persons who are serving a sentence\\n(e) Be brought before a court as soon as reasonably possible, but not later than 24 hours after being arrested or the end of the next court day\\n(f) At the first court appearance, be charged or informed of the reason for the detention continuing, or to be released\\n(g) Be released on bond or bail, on reasonable conditions, pending a charge or trial, unless there are compelling reasons not to be released.'"
            ]
          },
          "execution_count": 21,
          "metadata": {},
          "output_type": "execute_result"
        }
      ],
      "source": [
        "generate_response(\"What are the rights of an arrested person?\", language=\"en\")"
      ]
    },
    {
      "cell_type": "code",
      "execution_count": null,
      "metadata": {
        "colab": {
          "base_uri": "https://localhost:8080/",
          "height": 125
        },
        "id": "GNj9FXRwlGbs",
        "outputId": "e1ae85ab-91b2-43e5-df8e-b85da16a0335"
      },
      "outputs": [
        {
          "data": {
            "application/vnd.google.colaboratory.intrinsic+json": {
              "type": "string"
            },
            "text/plain": [
              "'Kwa mujibu wa Mwakilishi wa Taifa ya Kenya, 2010, klabu 49, klaus 1, klabu (a), klabu (i), klabu (ii) na klabu (iii), haki za mtu aliyejaribiwa ni pamoja na:\\n\\n* Kuwaambia kwa njia ambayo mtu anaweza kuelewa, sababu ya kuwajibika;\\n* Kuwa na haki ya kutulia;\\n* Kuwa na haki ya kujua madhara ya kutulia.\\n\\nPia, klabu 49, klaus 1, klabu (c), klabu (d), klabu (e), klabu (f), klabu (g) na klabu (h), haki za mtu aliyejaribiwa pia ni pamoja na:\\n\\n* Kuwa na haki ya kuwasiliana na mwendesha mashtaka;\\n* Kuwa na haki ya kutalia;\\n* Kuwa na haki ya kuwasiliana na mwendesha mashtaka;\\n* Kuwa na haki ya kutalia;\\n* Kuwa na haki ya kufunguliwa kwa bondi au kodi, kwa masharti mazuri, kabla ya kufunguliwa kwa mashtaka au kesi'"
            ]
          },
          "execution_count": 22,
          "metadata": {},
          "output_type": "execute_result"
        }
      ],
      "source": [
        "generate_response(\"What are the rights of an arrested person?\", language=\"sw\")"
      ]
    },
    {
      "cell_type": "code",
      "execution_count": null,
      "metadata": {
        "colab": {
          "base_uri": "https://localhost:8080/",
          "height": 233
        },
        "id": "PeBeu5HbAnTr",
        "outputId": "ce3a023d-1689-4a76-b369-90afe40a1962"
      },
      "outputs": [
        {
          "data": {
            "application/vnd.google.colaboratory.intrinsic+json": {
              "type": "string"
            },
            "text/plain": [
              "'According to Article 53 of the Constitution of Kenya, every person with a disability has the right to equal opportunities and access to education, employment, healthcare, transportation, and other social services. Additionally, Article 54 of the Constitution provides that every person with a disability has the right to reasonable accommodation in all aspects of life, including education, employment, and access to information.\\n\\nFurthermore, Article 55 of the Constitution provides that the State shall take measures to ensure that persons with disabilities have equal opportunities to participate in the political, economic, social, and cultural life of the country. This includes measures to ensure that persons with disabilities have access to information, education, and employment, and that they are not discriminated against in any way.\\n\\nIn terms of the rights of a disabled person in a court of law, Article 165 of the Constitution provides that the court shall ensure that persons with disabilities have equal access to justice and that their rights are protected. This includes measures to ensure that persons with disabilities have access to interpreters, sign language interpreters, and other forms of assistance necessary to facilitate their participation in court proceedings.\\n\\nIn summary, the rights of a disabled person in Kenya include the right to equal opportunities and access to education, employment, healthcare, transportation, and other social services, the right to reasonable accommodation, and the right to equal access to justice.'"
            ]
          },
          "execution_count": 43,
          "metadata": {},
          "output_type": "execute_result"
        }
      ],
      "source": [
        "generate_response(\"What are the rights of a disabled person?\", language=\"en\")"
      ]
    },
    {
      "cell_type": "code",
      "execution_count": null,
      "metadata": {
        "colab": {
          "base_uri": "https://localhost:8080/",
          "height": 125
        },
        "id": "bAMbEBV7Awa0",
        "outputId": "5f296d3b-f25c-4361-c4e0-352836c09747"
      },
      "outputs": [
        {
          "data": {
            "application/vnd.google.colaboratory.intrinsic+json": {
              "type": "string"
            },
            "text/plain": [
              "'Kwa Katiba ya Kenya, 2010, hakika hakuna mtu anayeweza kuteswa bila kufahamika sababu ya kuwepo kwa upelelezi. Hivyo, kama mtu anakuwa amewekwa kizuizi, ana haki ya:\\n\\n* Kupewa sababu za upelelezi kwa lugha ambayo anajifahamu;\\n* Kuwa na haki ya kutembea kwa kujulikana;\\n* Kuwa na haki ya kutembea kwa kujulikana kuhusiana na sababu ya kuwepo kwa upelelezi;\\n* Kuwa na haki ya kutembea kwa kujulikana kuhusiana na madhara ya kutokutembea kwa kujulikana;\\n* Kuwa na haki ya kutembea na mwendesha wa maswali, na watu wengine ambao wanaweza kuwasaidia katika mahakamani;\\n* Kuwa na haki ya kutembea kwa kujulikana kuhusiana na sababu ya kuwepo kwa upelelezi;\\n* Kuwa na haki ya kutembea kwa kujulikana kuhusiana na mad'"
            ]
          },
          "execution_count": 23,
          "metadata": {},
          "output_type": "execute_result"
        }
      ],
      "source": [
        "generate_response(\"What are the rights of an arrested person?\", language=\"sw\")"
      ]
    },
    {
      "cell_type": "markdown",
      "metadata": {
        "id": "8E2imLqXx7hI"
      },
      "source": [
        "### Intergratin Retriever and Generator"
      ]
    },
    {
      "cell_type": "markdown",
      "metadata": {
        "id": "GWK0snow0GEi"
      },
      "source": []
    }
  ],
  "metadata": {
    "accelerator": "GPU",
    "colab": {
      "gpuType": "T4",
      "provenance": []
    },
    "kernelspec": {
      "display_name": "Python 3",
      "name": "python3"
    },
    "language_info": {
      "codemirror_mode": {
        "name": "ipython",
        "version": 3
      },
      "file_extension": ".py",
      "mimetype": "text/x-python",
      "name": "python",
      "nbconvert_exporter": "python",
      "pygments_lexer": "ipython3",
      "version": "3.12.9"
    },
    "widgets": {
      "application/vnd.jupyter.widget-state+json": {
        "0b890a9499c0468db58cfa2f44065168": {
          "model_module": "@jupyter-widgets/controls",
          "model_module_version": "1.5.0",
          "model_name": "ProgressStyleModel",
          "state": {
            "_model_module": "@jupyter-widgets/controls",
            "_model_module_version": "1.5.0",
            "_model_name": "ProgressStyleModel",
            "_view_count": null,
            "_view_module": "@jupyter-widgets/base",
            "_view_module_version": "1.2.0",
            "_view_name": "StyleView",
            "bar_color": null,
            "description_width": ""
          }
        },
        "34d162a49a8a4d6da18b1311c13f42e3": {
          "model_module": "@jupyter-widgets/base",
          "model_module_version": "1.2.0",
          "model_name": "LayoutModel",
          "state": {
            "_model_module": "@jupyter-widgets/base",
            "_model_module_version": "1.2.0",
            "_model_name": "LayoutModel",
            "_view_count": null,
            "_view_module": "@jupyter-widgets/base",
            "_view_module_version": "1.2.0",
            "_view_name": "LayoutView",
            "align_content": null,
            "align_items": null,
            "align_self": null,
            "border": null,
            "bottom": null,
            "display": null,
            "flex": null,
            "flex_flow": null,
            "grid_area": null,
            "grid_auto_columns": null,
            "grid_auto_flow": null,
            "grid_auto_rows": null,
            "grid_column": null,
            "grid_gap": null,
            "grid_row": null,
            "grid_template_areas": null,
            "grid_template_columns": null,
            "grid_template_rows": null,
            "height": null,
            "justify_content": null,
            "justify_items": null,
            "left": null,
            "margin": null,
            "max_height": null,
            "max_width": null,
            "min_height": null,
            "min_width": null,
            "object_fit": null,
            "object_position": null,
            "order": null,
            "overflow": null,
            "overflow_x": null,
            "overflow_y": null,
            "padding": null,
            "right": null,
            "top": null,
            "visibility": null,
            "width": null
          }
        },
        "49d432892b8849b78a4502777f4fe911": {
          "model_module": "@jupyter-widgets/controls",
          "model_module_version": "1.5.0",
          "model_name": "DescriptionStyleModel",
          "state": {
            "_model_module": "@jupyter-widgets/controls",
            "_model_module_version": "1.5.0",
            "_model_name": "DescriptionStyleModel",
            "_view_count": null,
            "_view_module": "@jupyter-widgets/base",
            "_view_module_version": "1.2.0",
            "_view_name": "StyleView",
            "description_width": ""
          }
        },
        "55350b7cd4ce41dc96d436cd14eb1f22": {
          "model_module": "@jupyter-widgets/controls",
          "model_module_version": "1.5.0",
          "model_name": "HBoxModel",
          "state": {
            "_dom_classes": [],
            "_model_module": "@jupyter-widgets/controls",
            "_model_module_version": "1.5.0",
            "_model_name": "HBoxModel",
            "_view_count": null,
            "_view_module": "@jupyter-widgets/controls",
            "_view_module_version": "1.5.0",
            "_view_name": "HBoxView",
            "box_style": "",
            "children": [
              "IPY_MODEL_6e67e0aa848c480f9ccddcfa8e7eb9de",
              "IPY_MODEL_a4ba8d0822e44bd9b9efe87991e36174",
              "IPY_MODEL_597f4bd3934a47c0aefae6a794c6cde7"
            ],
            "layout": "IPY_MODEL_34d162a49a8a4d6da18b1311c13f42e3"
          }
        },
        "597f4bd3934a47c0aefae6a794c6cde7": {
          "model_module": "@jupyter-widgets/controls",
          "model_module_version": "1.5.0",
          "model_name": "HTMLModel",
          "state": {
            "_dom_classes": [],
            "_model_module": "@jupyter-widgets/controls",
            "_model_module_version": "1.5.0",
            "_model_name": "HTMLModel",
            "_view_count": null,
            "_view_module": "@jupyter-widgets/controls",
            "_view_module_version": "1.5.0",
            "_view_name": "HTMLView",
            "description": "",
            "description_tooltip": null,
            "layout": "IPY_MODEL_89ef64e4c25e4317b8b43ab287400780",
            "placeholder": "​",
            "style": "IPY_MODEL_8dbb703e5c7d4e19912fb089680db6e3",
            "value": " 16/16 [00:01&lt;00:00, 19.07it/s]"
          }
        },
        "6e67e0aa848c480f9ccddcfa8e7eb9de": {
          "model_module": "@jupyter-widgets/controls",
          "model_module_version": "1.5.0",
          "model_name": "HTMLModel",
          "state": {
            "_dom_classes": [],
            "_model_module": "@jupyter-widgets/controls",
            "_model_module_version": "1.5.0",
            "_model_name": "HTMLModel",
            "_view_count": null,
            "_view_module": "@jupyter-widgets/controls",
            "_view_module_version": "1.5.0",
            "_view_name": "HTMLView",
            "description": "",
            "description_tooltip": null,
            "layout": "IPY_MODEL_990e57f7f60b4794991465a6e04d2fb6",
            "placeholder": "​",
            "style": "IPY_MODEL_49d432892b8849b78a4502777f4fe911",
            "value": "Batches: 100%"
          }
        },
        "75ec7b387554492bbab8ae6c0b16d01c": {
          "model_module": "@jupyter-widgets/base",
          "model_module_version": "1.2.0",
          "model_name": "LayoutModel",
          "state": {
            "_model_module": "@jupyter-widgets/base",
            "_model_module_version": "1.2.0",
            "_model_name": "LayoutModel",
            "_view_count": null,
            "_view_module": "@jupyter-widgets/base",
            "_view_module_version": "1.2.0",
            "_view_name": "LayoutView",
            "align_content": null,
            "align_items": null,
            "align_self": null,
            "border": null,
            "bottom": null,
            "display": null,
            "flex": null,
            "flex_flow": null,
            "grid_area": null,
            "grid_auto_columns": null,
            "grid_auto_flow": null,
            "grid_auto_rows": null,
            "grid_column": null,
            "grid_gap": null,
            "grid_row": null,
            "grid_template_areas": null,
            "grid_template_columns": null,
            "grid_template_rows": null,
            "height": null,
            "justify_content": null,
            "justify_items": null,
            "left": null,
            "margin": null,
            "max_height": null,
            "max_width": null,
            "min_height": null,
            "min_width": null,
            "object_fit": null,
            "object_position": null,
            "order": null,
            "overflow": null,
            "overflow_x": null,
            "overflow_y": null,
            "padding": null,
            "right": null,
            "top": null,
            "visibility": null,
            "width": null
          }
        },
        "89ef64e4c25e4317b8b43ab287400780": {
          "model_module": "@jupyter-widgets/base",
          "model_module_version": "1.2.0",
          "model_name": "LayoutModel",
          "state": {
            "_model_module": "@jupyter-widgets/base",
            "_model_module_version": "1.2.0",
            "_model_name": "LayoutModel",
            "_view_count": null,
            "_view_module": "@jupyter-widgets/base",
            "_view_module_version": "1.2.0",
            "_view_name": "LayoutView",
            "align_content": null,
            "align_items": null,
            "align_self": null,
            "border": null,
            "bottom": null,
            "display": null,
            "flex": null,
            "flex_flow": null,
            "grid_area": null,
            "grid_auto_columns": null,
            "grid_auto_flow": null,
            "grid_auto_rows": null,
            "grid_column": null,
            "grid_gap": null,
            "grid_row": null,
            "grid_template_areas": null,
            "grid_template_columns": null,
            "grid_template_rows": null,
            "height": null,
            "justify_content": null,
            "justify_items": null,
            "left": null,
            "margin": null,
            "max_height": null,
            "max_width": null,
            "min_height": null,
            "min_width": null,
            "object_fit": null,
            "object_position": null,
            "order": null,
            "overflow": null,
            "overflow_x": null,
            "overflow_y": null,
            "padding": null,
            "right": null,
            "top": null,
            "visibility": null,
            "width": null
          }
        },
        "8dbb703e5c7d4e19912fb089680db6e3": {
          "model_module": "@jupyter-widgets/controls",
          "model_module_version": "1.5.0",
          "model_name": "DescriptionStyleModel",
          "state": {
            "_model_module": "@jupyter-widgets/controls",
            "_model_module_version": "1.5.0",
            "_model_name": "DescriptionStyleModel",
            "_view_count": null,
            "_view_module": "@jupyter-widgets/base",
            "_view_module_version": "1.2.0",
            "_view_name": "StyleView",
            "description_width": ""
          }
        },
        "990e57f7f60b4794991465a6e04d2fb6": {
          "model_module": "@jupyter-widgets/base",
          "model_module_version": "1.2.0",
          "model_name": "LayoutModel",
          "state": {
            "_model_module": "@jupyter-widgets/base",
            "_model_module_version": "1.2.0",
            "_model_name": "LayoutModel",
            "_view_count": null,
            "_view_module": "@jupyter-widgets/base",
            "_view_module_version": "1.2.0",
            "_view_name": "LayoutView",
            "align_content": null,
            "align_items": null,
            "align_self": null,
            "border": null,
            "bottom": null,
            "display": null,
            "flex": null,
            "flex_flow": null,
            "grid_area": null,
            "grid_auto_columns": null,
            "grid_auto_flow": null,
            "grid_auto_rows": null,
            "grid_column": null,
            "grid_gap": null,
            "grid_row": null,
            "grid_template_areas": null,
            "grid_template_columns": null,
            "grid_template_rows": null,
            "height": null,
            "justify_content": null,
            "justify_items": null,
            "left": null,
            "margin": null,
            "max_height": null,
            "max_width": null,
            "min_height": null,
            "min_width": null,
            "object_fit": null,
            "object_position": null,
            "order": null,
            "overflow": null,
            "overflow_x": null,
            "overflow_y": null,
            "padding": null,
            "right": null,
            "top": null,
            "visibility": null,
            "width": null
          }
        },
        "a4ba8d0822e44bd9b9efe87991e36174": {
          "model_module": "@jupyter-widgets/controls",
          "model_module_version": "1.5.0",
          "model_name": "FloatProgressModel",
          "state": {
            "_dom_classes": [],
            "_model_module": "@jupyter-widgets/controls",
            "_model_module_version": "1.5.0",
            "_model_name": "FloatProgressModel",
            "_view_count": null,
            "_view_module": "@jupyter-widgets/controls",
            "_view_module_version": "1.5.0",
            "_view_name": "ProgressView",
            "bar_style": "success",
            "description": "",
            "description_tooltip": null,
            "layout": "IPY_MODEL_75ec7b387554492bbab8ae6c0b16d01c",
            "max": 16,
            "min": 0,
            "orientation": "horizontal",
            "style": "IPY_MODEL_0b890a9499c0468db58cfa2f44065168",
            "value": 16
          }
        }
      }
    }
  },
  "nbformat": 4,
  "nbformat_minor": 0
}
